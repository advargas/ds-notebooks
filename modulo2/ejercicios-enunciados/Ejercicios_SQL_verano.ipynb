{
  "nbformat": 4,
  "nbformat_minor": 0,
  "metadata": {
    "colab": {
      "provenance": []
    },
    "kernelspec": {
      "name": "python3",
      "display_name": "Python 3"
    },
    "language_info": {
      "name": "python"
    }
  },
  "cells": [
    {
      "cell_type": "markdown",
      "metadata": {
        "id": "TtECttBjOBpe"
      },
      "source": [
        "# Ejercicio SQL\n",
        "\n",
        "Este ejercicio será realizado utilizando la base de datos IndianPremierLeague.db\n",
        "\n",
        "A continuación puedes consultar el Diagrama E/R del fichero:\n",
        "https://i.imgur.com/327NVKH.png\n",
        "\n",
        "Este fichero es de dominio público y ha sido extraido de:\n",
        "https://www.kaggle.com/harsha547/ipldatabase\n",
        "\n"
      ]
    },
    {
      "cell_type": "markdown",
      "metadata": {
        "id": "bCIkdKr1PaEB"
      },
      "source": [
        "## Requisito\n",
        "\n",
        "1. Ejecuta las dos primeras celdas para poder actuar sobre la BBDD de la Indian Premier League."
      ]
    },
    {
      "cell_type": "code",
      "metadata": {
        "colab": {
          "base_uri": "https://localhost:8080/",
          "height": 105
        },
        "id": "HFndCzQ1N-oG",
        "outputId": "3482e006-aaae-4765-f8cf-dfaf32bc9d7d"
      },
      "source": [
        "!gdown https://drive.google.com/uc?id=1bmRAAnIMHsXrd2sWMCIW0v9cIONsXx2E\n",
        "%load_ext sql\n",
        "%sql sqlite:///IndianPremierLeague.sqlite"
      ],
      "execution_count": null,
      "outputs": [
        {
          "output_type": "stream",
          "name": "stdout",
          "text": [
            "Downloading...\n",
            "From: https://drive.google.com/uc?id=1bmRAAnIMHsXrd2sWMCIW0v9cIONsXx2E\n",
            "To: /content/IndianPremierLeague.sqlite\n",
            "100% 12.8M/12.8M [00:00<00:00, 33.2MB/s]\n"
          ]
        },
        {
          "output_type": "execute_result",
          "data": {
            "text/plain": [
              "'Connected: @IndianPremierLeague.sqlite'"
            ],
            "application/vnd.google.colaboratory.intrinsic+json": {
              "type": "string"
            }
          },
          "metadata": {},
          "execution_count": 1
        }
      ]
    },
    {
      "cell_type": "code",
      "source": [
        "%%sql\n",
        "PRAGMA foreign_keys = ON"
      ],
      "metadata": {
        "id": "r_yJL8f3c9To",
        "outputId": "ada9483a-ace7-4f5f-b1f0-de7fdf9a7275",
        "colab": {
          "base_uri": "https://localhost:8080/"
        }
      },
      "execution_count": null,
      "outputs": [
        {
          "output_type": "stream",
          "name": "stdout",
          "text": [
            " * sqlite:///IndianPremierLeague.sqlite\n",
            "Done.\n"
          ]
        },
        {
          "output_type": "execute_result",
          "data": {
            "text/plain": [
              "[]"
            ]
          },
          "metadata": {},
          "execution_count": 2
        }
      ]
    },
    {
      "cell_type": "markdown",
      "metadata": {
        "id": "hFTNnPnBQ--a"
      },
      "source": [
        "1) ¿Cuántas filas tiene cada una de las tablas listadas a continuación?\n",
        "- Tabla City\n",
        "- Tabla Coutry\n",
        "- Tabla Venue\n",
        "- Tabla Match"
      ]
    },
    {
      "cell_type": "code",
      "source": [],
      "metadata": {
        "id": "9FMeI81uts9J"
      },
      "execution_count": null,
      "outputs": []
    },
    {
      "cell_type": "markdown",
      "metadata": {
        "id": "eD77zGA6WyYP"
      },
      "source": [
        "2) ¿Cuántos países diferentes aparecen en la tabla \"City\"?"
      ]
    },
    {
      "cell_type": "code",
      "source": [],
      "metadata": {
        "id": "FFnmiCiRtut_"
      },
      "execution_count": null,
      "outputs": []
    },
    {
      "cell_type": "markdown",
      "metadata": {
        "id": "xsuBwp1BXguW"
      },
      "source": [
        "3) La tabla \"Venue\" recoge el listado de estadios dónde pueden celebrarse los partidos. \n",
        "Utilizando esta tabla:\n",
        "- Obtén cuántos estadios hay por cada id de ciudad ordenando el resultado de mayor a menor frecuencia de estadios"
      ]
    },
    {
      "cell_type": "code",
      "source": [],
      "metadata": {
        "id": "jXXwbEwttviZ"
      },
      "execution_count": null,
      "outputs": []
    },
    {
      "cell_type": "markdown",
      "metadata": {
        "id": "gyyIFUx-ZosD"
      },
      "source": [
        "4) Utilizando la tabla \"Match\":\n",
        "- Calcula cuántos partidos se jugaron en el año 2010\n",
        "- Calcula cuántos partidos se jugaron en cada temporada del 2010 y 2011\n",
        "\n"
      ]
    },
    {
      "cell_type": "code",
      "source": [],
      "metadata": {
        "id": "99WEDZb5tv8v"
      },
      "execution_count": null,
      "outputs": []
    },
    {
      "cell_type": "markdown",
      "metadata": {
        "id": "RrxmD55lasET"
      },
      "source": [
        "5) Utilizando la tabla \"Match\": \n",
        "- Obtén qué 2 equipos se han enfrentado más veces (con los ids de los equipos es suficiente)\n",
        "- Obtén que 2 equipos se han enfrentado 11 veces (con los ids de los equipos es suficiente)"
      ]
    },
    {
      "cell_type": "code",
      "source": [],
      "metadata": {
        "id": "NKVzv0AbtwXo"
      },
      "execution_count": null,
      "outputs": []
    },
    {
      "cell_type": "markdown",
      "metadata": {
        "id": "C4uxF3lRb0wG"
      },
      "source": [
        "6) Utilizando la tabla \"Player\":\n",
        "- Obtén el jugador más joven\n",
        "- Obtén el jugador más mayor"
      ]
    },
    {
      "cell_type": "code",
      "source": [],
      "metadata": {
        "id": "MzctABTGtw3v"
      },
      "execution_count": null,
      "outputs": []
    },
    {
      "cell_type": "markdown",
      "metadata": {
        "id": "P5WkoiuARaxd"
      },
      "source": [
        "7) ¿Cuál es el nombre los equipos que jugaron el partido con id = 392225?"
      ]
    },
    {
      "cell_type": "code",
      "source": [],
      "metadata": {
        "id": "-gdZg2iPtxk5"
      },
      "execution_count": null,
      "outputs": []
    },
    {
      "cell_type": "markdown",
      "metadata": {
        "id": "0D0YqXURRa0N"
      },
      "source": [
        "8) Lista el nombre de todos los estadios en los que haya ganado el equipo 'Rajasthan Royals'"
      ]
    },
    {
      "cell_type": "code",
      "source": [],
      "metadata": {
        "id": "9eHd7_RmtyD4"
      },
      "execution_count": null,
      "outputs": []
    },
    {
      "cell_type": "markdown",
      "metadata": {
        "id": "vgeRInpATxK_"
      },
      "source": [
        "9) Lista el nombre de todos los estadios en los que haya ganado el equipo 'Rajasthan Royals'. Añade también la ciudad y el país del estadio."
      ]
    },
    {
      "cell_type": "code",
      "source": [],
      "metadata": {
        "id": "gm5tyIE9tyfP"
      },
      "execution_count": null,
      "outputs": []
    },
    {
      "cell_type": "markdown",
      "metadata": {
        "id": "epwOSgbtUT1x"
      },
      "source": [
        "10) En la tabla 'Umpire' puedes encontrar información de los árbitros, incluyendo su país de origen.\n",
        "Extrae el listado de aquellos árbitros que hayan pitado algún partido en estadios de su país de origen."
      ]
    },
    {
      "cell_type": "code",
      "source": [],
      "metadata": {
        "id": "3sqniXxztzAo"
      },
      "execution_count": null,
      "outputs": []
    },
    {
      "cell_type": "markdown",
      "metadata": {
        "id": "yzHTk8zGS6MW"
      },
      "source": [
        "11) Lista el nombre de todos los estadios en los que haya jugado el equipo 'Mumbai Indians'"
      ]
    },
    {
      "cell_type": "code",
      "source": [],
      "metadata": {
        "id": "7FKUVtZstzYa"
      },
      "execution_count": null,
      "outputs": []
    },
    {
      "cell_type": "markdown",
      "metadata": {
        "id": "OEEqrSC4TFHe"
      },
      "source": [
        "12) Lista el nombre de todos los estadios en los que haya ganado el equipo 'Kings XI Punjab'"
      ]
    },
    {
      "cell_type": "code",
      "source": [],
      "metadata": {
        "id": "8LDVGVLPtzvY"
      },
      "execution_count": null,
      "outputs": []
    },
    {
      "cell_type": "markdown",
      "metadata": {
        "id": "n5vd_xFJViC5"
      },
      "source": [
        "13) Ahora que conoces un poco más los datos: decide qué información te resultaría interesante extraer. \n",
        "Explica qué pregunta vas a responder\n",
        "Hazlo a través de una/varias querys e interpreta el resultado obtenido"
      ]
    },
    {
      "cell_type": "code",
      "metadata": {
        "id": "QPh_ueZiS9yk"
      },
      "source": [],
      "execution_count": null,
      "outputs": []
    }
  ]
}