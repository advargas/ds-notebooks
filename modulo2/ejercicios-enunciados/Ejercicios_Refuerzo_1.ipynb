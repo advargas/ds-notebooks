{
  "nbformat": 4,
  "nbformat_minor": 0,
  "metadata": {
    "colab": {
      "provenance": []
    },
    "kernelspec": {
      "name": "python3",
      "display_name": "Python 3"
    },
    "language_info": {
      "name": "python"
    }
  },
  "cells": [
    {
      "cell_type": "markdown",
      "metadata": {
        "id": "RQfUtaBsgYs4"
      },
      "source": [
        "**Ejercicos de Refuerzo.**"
      ]
    },
    {
      "cell_type": "markdown",
      "metadata": {
        "id": "oEwYtl9ugK2b"
      },
      "source": [
        "Escribir un programa en el que se pregunte al usuario por una frase y una letra, y muestre por pantalla el número de veces que aparece la letra en la frase."
      ]
    },
    {
      "cell_type": "code",
      "metadata": {
        "id": "uybzUMvKgLkI"
      },
      "source": [],
      "execution_count": null,
      "outputs": []
    },
    {
      "cell_type": "markdown",
      "metadata": {
        "id": "1i9ROz63gLsI"
      },
      "source": [
        "Escribir un programa que cree un diccionario vacío y lo vaya llenado con información sobre una persona (por ejemplo nombre, edad, sexo, teléfono, correo electrónico, etc.) que se le pida al usuario. Cada vez que se añada un nuevo dato debe imprimirse el contenido del diccionario."
      ]
    },
    {
      "cell_type": "code",
      "metadata": {
        "id": "XZ3pVVfZgP6A"
      },
      "source": [],
      "execution_count": null,
      "outputs": []
    },
    {
      "cell_type": "markdown",
      "metadata": {
        "id": "ekLF3EOPgQKO"
      },
      "source": [
        "Escribir una función que calcule el área de un círculo y otra que calcule el volumen de un cilindro usando la primera función."
      ]
    },
    {
      "cell_type": "code",
      "metadata": {
        "id": "REGT0-hWgQvT"
      },
      "source": [],
      "execution_count": null,
      "outputs": []
    },
    {
      "cell_type": "markdown",
      "metadata": {
        "id": "eEMPjed5gSxN"
      },
      "source": [
        "Escribir una función que convierta un número decimal en binario y otra que convierta un número binario en decimal."
      ]
    },
    {
      "cell_type": "code",
      "metadata": {
        "id": "yUks01rqgTHz"
      },
      "source": [],
      "execution_count": null,
      "outputs": []
    },
    {
      "cell_type": "markdown",
      "metadata": {
        "id": "vYmbhbbNgVSN"
      },
      "source": [
        "Escribir un programa que cree un diccionario de traducción español-inglés. El usuario introducirá las palabras en español e inglés separadas por dos puntos, y cada par <palabra>:<traducción> separados por comas. El programa debe crear un diccionario con las palabras y sus traducciones. Después pedirá una frase en español y utilizará el diccionario para traducirla palabra a palabra. Si una palabra no está en el diccionario debe dejarla sin traducir."
      ]
    },
    {
      "cell_type": "code",
      "metadata": {
        "id": "QRqQb-96gVv1"
      },
      "source": [],
      "execution_count": null,
      "outputs": []
    }
  ]
}