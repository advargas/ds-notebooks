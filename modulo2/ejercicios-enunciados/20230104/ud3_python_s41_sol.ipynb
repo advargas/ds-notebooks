{
  "nbformat": 4,
  "nbformat_minor": 0,
  "metadata": {
    "kernelspec": {
      "display_name": "Python 3",
      "language": "python",
      "name": "python3"
    },
    "language_info": {
      "codemirror_mode": {
        "name": "ipython",
        "version": 3
      },
      "file_extension": ".py",
      "mimetype": "text/x-python",
      "name": "python",
      "nbconvert_exporter": "python",
      "pygments_lexer": "ipython3",
      "version": "3.7.4"
    },
    "colab": {
      "provenance": []
    }
  },
  "cells": [
    {
      "cell_type": "markdown",
      "metadata": {
        "id": "AkL5gXH1yxKE"
      },
      "source": [
        "<style type=\"text/css\">\n",
        "    ol { list-style-type: upper-alpha; }\n",
        "</style>\n",
        "\n",
        "<center> <img src=https://i.imgur.com/0TSSaqL.png width=\"550\"> </center>\n",
        "\n",
        "<center> <h3> Module 3: Programación en Python </h3> </center>\n",
        "<center> <h4> Sesiones síncronas - 20221223 - Funciones</h4> </center>"
      ]
    },
    {
      "cell_type": "markdown",
      "source": [
        "### **Ejercicio 1**\n",
        "Escribir un programa que pida números hasta que el usuario escriba un 0 y definir funciones que:\n",
        "1. Convierta los elementos de la lista en su valor techo (ceil)\n",
        "2. Convierta los elementos de la lista en su valor suelo (floor)\n",
        "3. Convierta los elementos de la lista en su valor absoluto\n",
        "\n",
        "Hacer uso del módulo math y funciones de orden superior."
      ],
      "metadata": {
        "id": "HzCWpkBWPuTh"
      }
    },
    {
      "cell_type": "code",
      "source": [
        "# Ejercicio 1\n",
        "import math as mt\n",
        "num = True\n",
        "nums = list()\n",
        "while num != 0:\n",
        "  try:\n",
        "    num = float(\n",
        "      input(\n",
        "        \"Introduzca un valor numérico (0, para salir): \"\n",
        "      )\n",
        "    )\n",
        "    if num:\n",
        "      nums.append(num)\n",
        "  except:\n",
        "    print(\"Por favor, introduzca un valor numérico\")\n",
        "\n",
        "print(\"Valor techo\", list(map(lambda x: mt.ceil(x), nums)))\n",
        "print(\"Valor suelo\", list(map(lambda x: mt.floor(x), nums)))\n",
        "print(\"Valor absoluto\", list(map(lambda x: mt.fabs(x), nums)))"
      ],
      "metadata": {
        "id": "Lb1gawdBRQsB",
        "colab": {
          "base_uri": "https://localhost:8080/"
        },
        "outputId": "6f61f906-ab04-4fd9-c98b-203dc0e81e33"
      },
      "execution_count": 1,
      "outputs": [
        {
          "output_type": "stream",
          "name": "stdout",
          "text": [
            "Introduzca un valor numérico (0, para salir): 13.74\n",
            "Introduzca un valor numérico (0, para salir): 7.44\n",
            "Introduzca un valor numérico (0, para salir): 3.78\n",
            "Introduzca un valor numérico (0, para salir): -9.81\n",
            "Introduzca un valor numérico (0, para salir): -1.63345\n",
            "Introduzca un valor numérico (0, para salir): 9.53\n",
            "Introduzca un valor numérico (0, para salir): -125.63\n",
            "Introduzca un valor numérico (0, para salir): 0\n",
            "Valor techo [14, 8, 4, -9, -1, 10, -125]\n",
            "Valor suelo [13, 7, 3, -10, -2, 9, -126]\n",
            "Valor absoluto [13.74, 7.44, 3.78, 9.81, 1.63345, 9.53, 125.63]\n"
          ]
        }
      ]
    },
    {
      "cell_type": "markdown",
      "source": [
        "### **Ejercicio 2**\n",
        "Escribir un programa que dada una cadena de texto que contenga de forma intercalada números y letras como por ejemplo:\n",
        "```\n",
        "string = \"La 35 casa 12 en la que vivimos tiene 3 pisos\"\n",
        "```\n",
        "extraiga los números a una lista y los muestre, ordenados, aquellos que sean mayores que la longitud de la lista ordenada de números.\n",
        "\n",
        "Hacer uso de funciones de orden superior.\n"
      ],
      "metadata": {
        "id": "QnRPZIL4Tn7b"
      }
    },
    {
      "cell_type": "code",
      "source": [
        "# Ejercicio 2\n",
        "s = \"La 35 casa 12 en la que vivimos 334 tiene 3 pisos\"\n",
        "numbers = sorted([int(x) for x in s.split(' ') if x.isdigit()])\n",
        "print(list(filter(lambda x: x > len(numbers), numbers)))"
      ],
      "metadata": {
        "id": "0SgQB0rZTizb",
        "colab": {
          "base_uri": "https://localhost:8080/"
        },
        "outputId": "2f6f1589-bd54-44f3-9192-e06fbb7ba703"
      },
      "execution_count": 2,
      "outputs": [
        {
          "output_type": "stream",
          "name": "stdout",
          "text": [
            "[12, 35, 334]\n"
          ]
        }
      ]
    },
    {
      "cell_type": "markdown",
      "source": [
        "### **Ejercicio 3**\n",
        "Escribir un programa que pida números hasta que el usuario escriba un 0 y definir funciones que calculen la suma de los números negativos y los números positivos.\n",
        "\n",
        "Hacer uso de funciones de orden superior."
      ],
      "metadata": {
        "id": "NvFeiWtbVW7s"
      }
    },
    {
      "cell_type": "code",
      "source": [
        "# Ejercicio 3\n",
        "num = True\n",
        "nums = list()\n",
        "while num != 0:\n",
        "  try:\n",
        "    num = float(\n",
        "      input(\n",
        "        \"Introduzca un valor numérico (0, para salir): \"\n",
        "      )\n",
        "    )\n",
        "    if num:\n",
        "      nums.append(num)\n",
        "  except:\n",
        "    print(\"Por favor, introduzca un valor numérico\")\n",
        "\n",
        "print(\"Sum of the positive numbers: \",sum(list(filter(lambda nums: nums < 0, nums))))\n",
        "print(\"Sum of the negative numbers: \",sum(list(filter(lambda nums: nums > 0, nums))))"
      ],
      "metadata": {
        "id": "pa-kn6xTVudQ",
        "colab": {
          "base_uri": "https://localhost:8080/"
        },
        "outputId": "a05260fe-fb9b-4b6e-fe09-23437ff6d537"
      },
      "execution_count": 3,
      "outputs": [
        {
          "output_type": "stream",
          "name": "stdout",
          "text": [
            "Introduzca un valor numérico (0, para salir): -12959.6\n",
            "Introduzca un valor numérico (0, para salir): 23.55553\n",
            "Introduzca un valor numérico (0, para salir): 962.34\n",
            "Introduzca un valor numérico (0, para salir): -23\n",
            "Introduzca un valor numérico (0, para salir): 0\n",
            "Sum of the positive numbers:  -12982.6\n",
            "Sum of the negative numbers:  985.89553\n"
          ]
        }
      ]
    },
    {
      "cell_type": "markdown",
      "source": [
        "### **Ejercicio 4**\n",
        "Escribir un programa que dada la siguiente lista de diccionarios:\n",
        "```\n",
        "[\n",
        "  {\"fecha\": \"202112\", \"beneficios_ventas_fisicas\": 34656.35, \"beneficios_ventas_online\": 2235.95, \"stock\": 153},\n",
        "  {\"fecha\": \"202201\", \"beneficios_ventas_fisicas\": 42304.12, \"beneficios_ventas_online\": 5231.91, \"stock\": 126},\n",
        "  {\"fecha\": \"202202\", \"beneficios_ventas_fisicas\": 23565.24, \"beneficios_ventas_online\": 8401.9, \"stock\": 95},\n",
        "  {\"fecha\": \"202203\", \"beneficios_ventas_fisicas\": 24013.45, \"beneficios_ventas_online\": 12045.5, \"stock\": 64},\n",
        "  {\"fecha\": \"202204\", \"beneficios_ventas_fisicas\": 90228.7, \"beneficios_ventas_online\": 27909.85, \"stock\": 14}\n",
        "]\n",
        "```\n",
        "Transforme la fecha en formato datetime YYYY-MM-DD HH:mm:ss, usando las 00:00 del último día del mes y añada una nueva clave en el diccionario con la media entre los beneficios de las ventas físicas y online."
      ],
      "metadata": {
        "id": "a7FWLMXuWP40"
      }
    },
    {
      "cell_type": "code",
      "source": [
        "# Ejercicio 4\n",
        "import datetime as dt\n",
        "dicts = [\n",
        "  {\"fecha\": \"202112\", \"beneficios_ventas_fisicas\": 34656.35, \"beneficios_ventas_online\": 2235.95, \"stock\": 153},\n",
        "  {\"fecha\": \"202201\", \"beneficios_ventas_fisicas\": 42304.12, \"beneficios_ventas_online\": 5231.91, \"stock\": 126},\n",
        "  {\"fecha\": \"202202\", \"beneficios_ventas_fisicas\": 23565.24, \"beneficios_ventas_online\": 8401.9, \"stock\": 95},\n",
        "  {\"fecha\": \"202203\", \"beneficios_ventas_fisicas\": 24013.45, \"beneficios_ventas_online\": 12045.5, \"stock\": 64},\n",
        "  {\"fecha\": \"202204\", \"beneficios_ventas_fisicas\": 90228.7, \"beneficios_ventas_online\": 27909.85, \"stock\": 14}\n",
        "]\n",
        "\n",
        "add_day = {\n",
        "    \"202112\": \"31\", \n",
        "    \"202201\": \"31\", \n",
        "    \"202202\": \"28\", \n",
        "    \"202203\": \"31\",\n",
        "    \"202204\": \"30\"\n",
        "}\n",
        "for d in dicts:\n",
        "  fecha = d[\"fecha\"] + add_day[d[\"fecha\"]]\n",
        "  d[\"fecha\"] = dt.datetime.strptime(fecha, \"%Y%m%d\").strftime(\"%Y-%m-%d %H:%M:%S\")\n",
        "  d[\"media_beneficios\"] = (d[\"beneficios_ventas_fisicas\"] + d[\"beneficios_ventas_online\"]) / 2\n",
        "  print(d)"
      ],
      "metadata": {
        "id": "t82Ph4Y0ei9I",
        "colab": {
          "base_uri": "https://localhost:8080/"
        },
        "outputId": "fd8f56bc-eb0e-4f23-b0f3-4c196ab68970"
      },
      "execution_count": 4,
      "outputs": [
        {
          "output_type": "stream",
          "name": "stdout",
          "text": [
            "{'fecha': '2021-12-31 00:00:00', 'beneficios_ventas_fisicas': 34656.35, 'beneficios_ventas_online': 2235.95, 'stock': 153, 'media_beneficios': 18446.149999999998}\n",
            "{'fecha': '2022-01-31 00:00:00', 'beneficios_ventas_fisicas': 42304.12, 'beneficios_ventas_online': 5231.91, 'stock': 126, 'media_beneficios': 23768.015}\n",
            "{'fecha': '2022-02-28 00:00:00', 'beneficios_ventas_fisicas': 23565.24, 'beneficios_ventas_online': 8401.9, 'stock': 95, 'media_beneficios': 15983.57}\n",
            "{'fecha': '2022-03-31 00:00:00', 'beneficios_ventas_fisicas': 24013.45, 'beneficios_ventas_online': 12045.5, 'stock': 64, 'media_beneficios': 18029.475}\n",
            "{'fecha': '2022-04-30 00:00:00', 'beneficios_ventas_fisicas': 90228.7, 'beneficios_ventas_online': 27909.85, 'stock': 14, 'media_beneficios': 59069.274999999994}\n"
          ]
        }
      ]
    },
    {
      "cell_type": "markdown",
      "source": [
        "### **Ejercicio 5**\n",
        "Escribir un programa que determine cual es el máximo elemento de una lista utilizando funciones de orden superior.\n",
        "\n",
        "Prohibido usar la función `max` sobre listas."
      ],
      "metadata": {
        "id": "d7Il23naxvfY"
      }
    },
    {
      "cell_type": "code",
      "source": [
        "# Ejercicio 5\n",
        "from functools import reduce\n",
        "A = [-125, 34, 1, 25, 23.23]\n",
        "reduce(lambda x, y: x if x > y else y, A)"
      ],
      "metadata": {
        "id": "pf1ACKOMyTDz",
        "colab": {
          "base_uri": "https://localhost:8080/"
        },
        "outputId": "bb0a6b1e-c8b7-4db2-9369-a03e68c5296f"
      },
      "execution_count": 5,
      "outputs": [
        {
          "output_type": "execute_result",
          "data": {
            "text/plain": [
              "34"
            ]
          },
          "metadata": {},
          "execution_count": 5
        }
      ]
    },
    {
      "cell_type": "markdown",
      "source": [
        "### **Ejercicio 6**\n",
        "Escribir un programa que ayude en el procedimiento de contabilidad de una tienda de libros en la que disponen de la información de número de pedido, titulo del libro y autor, cantidad y precio por libro como lista de listas de la siguiente forma:\n",
        "```\n",
        "[\n",
        "  [22039, \"El Jardín Olvidado, Kate Morton\", 7, 15],\n",
        "  [98423, \"Marina, Carlos Ruiz Zafón\", 2, 24.95],\n",
        "  [72934, \"El Niño con el Pijama de Rayas, John Boyne\", 5, 12.95],\n",
        "  [12042, \"La Insoportable Levedad del Ser, Milan Kundera\", 3, 19.99]\n",
        "]\n",
        "```\n",
        "devolviendo una lista de tuplas de dos elementos que contenga el numero de pedido del producto y el precio total del pedido. El precio ha de incluir un coste de gastos de envío de 10€ si el precio del pedido es menor que 100€.\n",
        "\n",
        "Hacer uso de funciones de orden superior."
      ],
      "metadata": {
        "id": "S2xUlEyIdAIp"
      }
    },
    {
      "cell_type": "code",
      "source": [
        "# Ejercicio 6\n",
        "orders = [\n",
        "  [22039, \"El Jardín Olvidado, Kate Morton\", 7, 15],\n",
        "  [98423, \"Marina, Carlos Ruiz Zafón\", 2, 24.95],\n",
        "  [72934, \"El Niño con el Pijama de Rayas, John Boyne\", 5, 12.95],\n",
        "  [12042, \"La Insoportable Levedad del Ser, Milan Kundera\", 3, 19.99]\n",
        "]\n",
        "\n",
        "min_order = 100\n",
        "totals = list(\n",
        "    map(lambda x: x if x[1] >= min_order else (x[0], x[1] + 10), \n",
        "        map(lambda x: (x[0],x[2] * x[3]), orders)\n",
        "    )\n",
        ")\n",
        "print(totals)"
      ],
      "metadata": {
        "id": "O4n3dK0rdDHj",
        "colab": {
          "base_uri": "https://localhost:8080/"
        },
        "outputId": "34a96c0d-baef-45fd-973f-9194e4d4854d"
      },
      "execution_count": 6,
      "outputs": [
        {
          "output_type": "stream",
          "name": "stdout",
          "text": [
            "[(22039, 105), (98423, 59.9), (72934, 74.75), (12042, 69.97)]\n"
          ]
        }
      ]
    },
    {
      "cell_type": "markdown",
      "source": [
        "### **Ejercicio 7**\n",
        "Escribir un programa que ayude en el procedimiento de contabilidad de una tienda de libros en la que disponen de la información de la siguiente forma:\n",
        "```\n",
        "# [Numero de pedido, (Ref. Articulo, Cantidad, Precio), (Ref. Articulo, Cantidad, Precio) ...]\n",
        "[\n",
        "  [22039, (\"5523\", 7, 15), (\"1128\", 3, 9.99), (\"825\", 1, 45.85)],\n",
        "  [98423, (\"5523\", 7, 15), (\"345\", 6, 17.95)],\n",
        "  [72934, (\"825\", 1, 45.85), (\"1593\", 1, 12.25), (\"3952\", 2, 27.95), (\"1128\", 1, 9.99)],\n",
        "]\n",
        "```\n",
        "Escribir un programa que devuelva una lista de tuplas de dos elementos que contenga el numero de pedido del producto y el precio total del pedido. El precio ha de incluir un coste de gastos de envío de 10€ si el precio del pedido es menor que 100€.\n"
      ],
      "metadata": {
        "id": "bMIzZfKfekEj"
      }
    },
    {
      "cell_type": "code",
      "source": [
        "# Ejercicio 7\n",
        "from functools import reduce\n",
        "orders = [\n",
        "  [22039, (\"5523\", 7, 15), (\"1128\", 3, 9.99), (\"825\", 1, 45.85)],\n",
        "  [98423, (\"5523\", 7, 15), (\"345\", 6, 17.95)],\n",
        "  [72934, (\"825\", 1, 45.85), (\"1593\", 1, 12.25), (\"3952\", 2, 27.95), (\"1128\", 1, 9.99)],\n",
        "]\n",
        "min_order = 100\n",
        "totals = list(map(lambda x: [x[0]] + list(map(lambda y: y[1]*y[2], x[1:])), orders))\n",
        "totals = list(map(lambda x: [x[0]] + [reduce(lambda a,b: a + b, x[1:])], totals))\n",
        "totals = list(map(lambda x: x if x[1] >= min_order else (x[0], x[1] + 10), totals))\n",
        "print(totals)"
      ],
      "metadata": {
        "id": "YXsLnQYNelZU",
        "colab": {
          "base_uri": "https://localhost:8080/"
        },
        "outputId": "1bc15b46-5c6d-49de-8052-d42226cd70bd"
      },
      "execution_count": 7,
      "outputs": [
        {
          "output_type": "stream",
          "name": "stdout",
          "text": [
            "[[22039, 180.82], [98423, 212.7], [72934, 123.99]]\n"
          ]
        }
      ]
    },
    {
      "cell_type": "markdown",
      "source": [
        "### **Ejercicio 8**\n",
        "Escribir una funcion decoradora que nos permita medir el tiempo de ejecución de una función y utilizarla para comprobar el tiempo que tarda una función en calcular los 10 primeros elementos de la sucesión de Fibonacci.\n"
      ],
      "metadata": {
        "id": "X1p-8jZfel2i"
      }
    },
    {
      "cell_type": "code",
      "source": [
        "# Ejercicio 8\n",
        "def tiempo_ejec(funcion):\n",
        "    def wrapper():\n",
        "        import time\n",
        "        inicio = time.time()\n",
        "        result = funcion()\n",
        "        total = time.time() - inicio\n",
        "        print(total, 'segundos')\n",
        "        return result\n",
        "    return wrapper\n",
        "\n",
        "@tiempo_ejec\n",
        "def fibonacci():\n",
        "  cont = 2\n",
        "  n0 = 0\n",
        "  n1 = 1\n",
        "  while cont <= 10:\n",
        "    if cont > 2:\n",
        "      n1 = n0 + n1\n",
        "      n0 = n1 - n0\n",
        "      cont += 1\n",
        "      print(n1)\n",
        "    else:\n",
        "      print(n0)\n",
        "      print(n1)\n",
        "      cont += 1\n",
        "\n",
        "fibonacci()"
      ],
      "metadata": {
        "id": "4iXY6vQAenYV",
        "colab": {
          "base_uri": "https://localhost:8080/"
        },
        "outputId": "f5b5a75a-201f-47e0-fefb-10a1ade45a8a"
      },
      "execution_count": 8,
      "outputs": [
        {
          "output_type": "stream",
          "name": "stdout",
          "text": [
            "0\n",
            "1\n",
            "1\n",
            "2\n",
            "3\n",
            "5\n",
            "8\n",
            "13\n",
            "21\n",
            "34\n",
            "0.004303455352783203 segundos\n"
          ]
        }
      ]
    },
    {
      "cell_type": "markdown",
      "source": [
        "\n",
        "### **Ejercicio 9**\n",
        "Escribir un programa que dada una lista de palabras, i.e:\n",
        "```\n",
        "[\"geográfico\", \"Patata\", \"matón\", \"Hogar\", \"familia\", \"canción\", \"teñir\"]\n",
        "```\n",
        "Nos muestre por pantalla aquellas que contienen tilde o eñe.\n",
        "\n",
        "Usar expresiones regulares."
      ],
      "metadata": {
        "id": "k327jCFxpWJy"
      }
    },
    {
      "cell_type": "code",
      "source": [
        "# Ejercicio 9\n",
        "import re\n",
        "text = [\"geográfico\", \"Patata\", \"matón\", \"Hogar\", \"familia\", \"canción\", \"teñir\"]\n",
        "patron = re.compile(r\"w*[ñáéíóúÑÁÉÍÓÚ]w*\")\n",
        "\n",
        "def caracteres_especiales(palabra):\n",
        "  if patron.search(palabra):\n",
        "    print(palabra)\n",
        "\n",
        "out = list(map(caracteres_especiales, text))"
      ],
      "metadata": {
        "id": "S0cfos9wpV2v",
        "colab": {
          "base_uri": "https://localhost:8080/"
        },
        "outputId": "50cb8506-e653-42c6-f237-b2ab3b72d6f8"
      },
      "execution_count": 9,
      "outputs": [
        {
          "output_type": "stream",
          "name": "stdout",
          "text": [
            "geográfico\n",
            "matón\n",
            "canción\n",
            "teñir\n"
          ]
        }
      ]
    },
    {
      "cell_type": "markdown",
      "source": [
        "### **Ejercicio 10**\n",
        "Escribir un programa que dada una fecha como cadena de texto de la forma:\n",
        "```\n",
        "12/11/2023\n",
        "```\n",
        "Compruebe si se trata de una fecha válida. Consideraremos únicamente los años a partir del 1.\n",
        "\n",
        "Usar expresiones regulares."
      ],
      "metadata": {
        "id": "CUh1oNRYNQz6"
      }
    },
    {
      "cell_type": "code",
      "source": [
        "# Ejercicio 10\n",
        "import re\n",
        "fecha = re.compile(r'^(0?[1-9]|[12][0-9]|3[01])\\/(0?[1-9]|1[012])\\/(0?0?0?[1-9]|0?0?[1-9]\\d|0?[1-9]\\d\\d|[1-9]\\d{3})$')\n",
        "\n",
        "dates = [\"125/10/1923\", \"9/34/2015\", \"12/2/1995\", \"28/2/1294\", \"16/9/32\"]\n",
        "for date in dates:\n",
        "  if fecha.search(date):\n",
        "      print(date, \"es una fecha válida\")\n",
        "  else:\n",
        "      print(date, \"es una fecha inválida\")"
      ],
      "metadata": {
        "colab": {
          "base_uri": "https://localhost:8080/"
        },
        "id": "tColYKt0Nd0Q",
        "outputId": "ec313bbc-68b6-4134-f86e-91ba2e3b70ed"
      },
      "execution_count": 10,
      "outputs": [
        {
          "output_type": "stream",
          "name": "stdout",
          "text": [
            "125/10/1923 es una fecha inválida\n",
            "9/34/2015 es una fecha inválida\n",
            "12/2/1995 es una fecha válida\n",
            "28/2/1294 es una fecha válida\n",
            "16/9/32 es una fecha válida\n"
          ]
        }
      ]
    }
  ]
}