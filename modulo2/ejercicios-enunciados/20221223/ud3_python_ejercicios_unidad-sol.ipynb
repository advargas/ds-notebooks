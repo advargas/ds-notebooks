{
  "nbformat": 4,
  "nbformat_minor": 0,
  "metadata": {
    "kernelspec": {
      "display_name": "Python 3",
      "language": "python",
      "name": "python3"
    },
    "language_info": {
      "codemirror_mode": {
        "name": "ipython",
        "version": 3
      },
      "file_extension": ".py",
      "mimetype": "text/x-python",
      "name": "python",
      "nbconvert_exporter": "python",
      "pygments_lexer": "ipython3",
      "version": "3.7.4"
    },
    "colab": {
      "provenance": []
    }
  },
  "cells": [
    {
      "cell_type": "markdown",
      "metadata": {
        "id": "AkL5gXH1yxKE"
      },
      "source": [
        "<style type=\"text/css\">\n",
        "    ol { list-style-type: upper-alpha; }\n",
        "</style>\n",
        "\n",
        "<center> <img src=https://i.imgur.com/0TSSaqL.png width=\"550\"> </center>\n",
        "\n",
        "<center> <h3> Module 3: Programación en Python </h3> </center>\n",
        "<center> <h4> Sesiones síncronas - 20221223 - Ejercicios Unidad</h4> </center>"
      ]
    },
    {
      "cell_type": "markdown",
      "source": [
        "### **Ejercicio 1**\n",
        "Solicitar al usuario que introduzca su dirección de email. Imprimir un mensaje indicando si la dirección es válida o no, valiéndose de una función para decidirlo. Una dirección se considerará válida si contiene el símbolo @."
      ],
      "metadata": {
        "id": "HzCWpkBWPuTh"
      }
    },
    {
      "cell_type": "code",
      "source": [
        "# Ejercicio 1\n",
        "def valid_mail(mail):\n",
        "  out = \"La dirección proporcionada {}\"\n",
        "  if \"@\" in mail:\n",
        "    print(out.format(\"es válida\"))\n",
        "  else:\n",
        "    print(out.format(\"no es válida\"))"
      ],
      "metadata": {
        "id": "Lb1gawdBRQsB"
      },
      "execution_count": null,
      "outputs": []
    },
    {
      "cell_type": "markdown",
      "source": [
        "### **Ejercicio 2**\n",
        "Solicitar números al usuario hasta que ingrese el 0. Por cada uno, mostrar la suma de sus dígitos (utilizando una función que realice dicha suma)."
      ],
      "metadata": {
        "id": "QnRPZIL4Tn7b"
      }
    },
    {
      "cell_type": "code",
      "source": [
        "# Ejercicio 2\n",
        "def suma_digitos(n):\n",
        "  if n == 0:\n",
        "    return 0\n",
        "  else:\n",
        "    return int(n % 10) + suma_digitos(n // 10)\n",
        "\n",
        "n = True\n",
        "while n != 0:\n",
        "  try:\n",
        "    n = int(input(\"Introduzca un número (0, para salir): \"))\n",
        "    if n != 0:\n",
        "      print(f\"La suma de sus dígitos es: {suma_digitos(n)}\")\n",
        "  except ValueError as e: \n",
        "    print(\"ERROR:\", e)\n",
        "    print(\"Por favor, proporcione un número entero\")"
      ],
      "metadata": {
        "id": "0SgQB0rZTizb",
        "colab": {
          "base_uri": "https://localhost:8080/"
        },
        "outputId": "0e262f35-e9c9-4f90-82cc-8f04413fb13d"
      },
      "execution_count": null,
      "outputs": [
        {
          "output_type": "stream",
          "name": "stdout",
          "text": [
            "Introduzca un número (0, para salir): 34\n",
            "La suma de sus dígitos es: 7\n",
            "Introduzca un número (0, para salir): 34637\n",
            "La suma de sus dígitos es: 23\n",
            "Introduzca un número (0, para salir): 22334\n",
            "La suma de sus dígitos es: 14\n",
            "Introduzca un número (0, para salir): 3266778\n",
            "La suma de sus dígitos es: 39\n",
            "Introduzca un número (0, para salir): 999999999\n",
            "La suma de sus dígitos es: 81\n",
            "Introduzca un número (0, para salir): 235\n",
            "La suma de sus dígitos es: 10\n",
            "Introduzca un número (0, para salir): 0\n",
            "La suma de sus dígitos es: 0\n"
          ]
        }
      ]
    },
    {
      "cell_type": "markdown",
      "source": [
        "### **Ejercicio 3**\n",
        "Escribir un programa que permita al usuario obtener un identificador para cada uno de los socios de un club. Para eso ingresará nombre completo y número de DNI de cada socio, indicando que finalizará el procesamiento mediante el ingreso de un nombre vacío.\n",
        "\n",
        "Precondición: el formato del nombre de los socios será: nombre apellido.  Podría ingresar más de un nombre, en cuyo caso será: nombre1 nombre2 apellido.\n",
        "\n",
        "Si un socio tuviera más de un apellido, el usuario sólo ingresará uno. Se debe validar que el número de DNI tenga 7 u 8 dígitos. En caso contrario, el programa debe dejar al usuario en un bucle hasta que ingrese un DNI correcto. Por cada socio se debe imprimir su identificador único, el cual estará formado por: el primer nombre, la cantidad de letras del apellido y los primeros 3 dígitos de su DNI.\n"
      ],
      "metadata": {
        "id": "NvFeiWtbVW7s"
      }
    },
    {
      "cell_type": "code",
      "source": [
        "# Ejercicio 3\n",
        "# Ejemplo:\n",
        "# Nombre: Alba María Linares\n",
        "# DNI: 25834910\n",
        "# Alba7258\n",
        "from math import ceil, log10\n",
        "\n",
        "def validate_dni(n: int) -> bool:\n",
        "  \"\"\"\n",
        "  Esta función se encarga de proporcionar un booleano que valide que el número\n",
        "  de dígitos de un entero sea 7 u 8.\n",
        "  \"\"\"\n",
        "  return ceil(log10(n)) in (7, 8)\n",
        "\n",
        "def validate_name(s: str) -> bool:\n",
        "  \"\"\"\n",
        "  Esta función se encarga de, habiendo separado cada una de las palabras\n",
        "  limpiado los espacios en los extremos de un string, proporcionar un valor \n",
        "  booleano que nos diga si la longitud es válida junto con una lista de las \n",
        "  palabras no vacías.\n",
        "  \"\"\"\n",
        "  cleaned_s = [\n",
        "      p for p in s.strip().split(\" \") if p != \"\"\n",
        "  ]\n",
        "  return len(cleaned_s) >= 2, cleaned_s\n",
        "\n",
        "id = str()\n",
        "nombre = True\n",
        "while nombre:\n",
        "  nombre = str(input(\"Por favor, introduzca su nombre siguiendo el formato {nombre} {apellido} o Enter para salir: \"))\n",
        "  valid, cleaned_nombre = validate_name(nombre)\n",
        "  if len(cleaned_nombre) == 0:\n",
        "    print(\"Terminando el programa...\")\n",
        "    break\n",
        "  elif valid:\n",
        "    id = cleaned_nombre[0].capitalize() + str(len(cleaned_nombre[-1]))\n",
        "    dni = True\n",
        "    while dni:\n",
        "      try:\n",
        "        dni = int(input(\"Por favor, introduzca su DNI: \"))\n",
        "        if dni < 0:\n",
        "          print(\"El DNI ha de ser un número entero mayor que cero\")\n",
        "        elif validate_dni(dni):\n",
        "          id = id + str(dni)[:3]\n",
        "          print(\"Su identificador es: \" + id)\n",
        "          break\n",
        "        else:\n",
        "          print(\"Proporcione un DNI que sea un entero de entre 7 y 8 dígitos\")\n",
        "      except:\n",
        "        print(\"El DNI ha de ser un número entero\")\n",
        "  else:\n",
        "    print(\"El nombre introducido no es válido, asegúrese que proporciona una combinación de nombre/s y apellido\")"
      ],
      "metadata": {
        "colab": {
          "base_uri": "https://localhost:8080/"
        },
        "id": "fZT4FPvPxL0n",
        "outputId": "3aad4eda-5705-4253-8f38-9b76e4daed6e"
      },
      "execution_count": null,
      "outputs": [
        {
          "output_type": "stream",
          "name": "stdout",
          "text": [
            "Por favor, introduzca su nombre siguiendo el formato {nombre} {apellido} o Enter para salir: Luis Ridruejo\n",
            "Por favor, introduzca su DNI: -3453\n",
            "El DNI ha de ser un número entero mayor que cero\n",
            "Por favor, introduzca su DNI: safa\n",
            "El DNI ha de ser un número entero\n",
            "Por favor, introduzca su DNI: 3342432\n",
            "Su identificador es: Luis8334\n",
            "Por favor, introduzca su nombre siguiendo el formato {nombre} {apellido} o Enter para salir: asfa\n",
            "El nombre introducido no es válido, asegúrese que proporciona una combinación de nombre/s y apellido\n",
            "Por favor, introduzca su nombre siguiendo el formato {nombre} {apellido} o Enter para salir: Elena Abril\n",
            "Por favor, introduzca su DNI: aadaf\n",
            "El DNI ha de ser un número entero\n",
            "Por favor, introduzca su DNI: -1245151\n",
            "El DNI ha de ser un número entero mayor que cero\n",
            "Por favor, introduzca su DNI: 23245513\n",
            "Su identificador es: Elena5232\n",
            "Por favor, introduzca su nombre siguiendo el formato {nombre} {apellido} o Enter para salir: \n",
            "Terminando el programa...\n"
          ]
        }
      ]
    },
    {
      "cell_type": "markdown",
      "source": [
        "### **Ejercicio 4**\n",
        "Una inmobiliaria de una ciudad maneja una lista de inmuebles como la siguiente (Una lista donde cada elemento es un diccionario):\n",
        "```\n",
        "[\n",
        "  {'año': 2000, 'metros': 100, 'habitaciones': 3, 'garaje': True, 'zona': 'A'}, \n",
        "  {'año': 2012, 'metros': 60, 'habitaciones': 2, 'garaje': True, 'zona': 'B'},\n",
        "  {'año': 1980, 'metros': 120, 'habitaciones': 4, 'garaje': False, 'zona': 'A'},\n",
        "  {'año': 2005, 'metros': 75, 'habitaciones': 3, 'garaje': True, 'zona': 'B'},\n",
        "  {'año': 2015, 'metros': 90, 'habitaciones': 2, 'garaje': False, 'zona': 'A'}\n",
        "]\n",
        "```\n",
        "Construye una función que permita hacer búsqueda de inmuebles en función de un presupuesto dado. La función recibirá como entrada la lista de inmuebles y un precio, y devolverá otra lista con los inmuebles cuyo precio sea menor o igual que el dado. Los inmuebles de la lista que se devuelva deben incorporar un nuevo par a cada diccionario con el precio del inmueble, donde el precio de un inmueble se calcula con las siguiente fórmula en función de la zona:\n",
        "\n",
        "    Zona A: precio = (metros x 1000 + habitaciones x 5000 + garaje x 15000) x (1 - antiguedad / 100) \n",
        "    Zona B: precio = (metros x 1000 + habitaciones x 5000 + garaje x 15000) x (1 - antiguedad / 100) x 1.5\n"
      ],
      "metadata": {
        "id": "a7FWLMXuWP40"
      }
    },
    {
      "cell_type": "code",
      "source": [
        "# Ejercicio 4\n",
        "import datetime\n",
        "from dateutil.relativedelta import relativedelta\n",
        "\n",
        "def find_a_home(l: list, p: float) -> list:\n",
        "  candidatos = list()\n",
        "  def zonA(d: dict) -> float:\n",
        "    return (\n",
        "        d[\"metros\"] * 1000 + d[\"habitaciones\"] * 5000 + d[\"garaje\"] * 15000) * \\\n",
        "        (1 - (2022 - d[\"año\"]) / 100)\n",
        "  def zonB(d: dict) -> float:\n",
        "    return zonA(d) * 1.5\n",
        "\n",
        "  for inmueble in l:\n",
        "    inmueble[\"precio\"] = eval(f\"zon{inmueble['zona']}({inmueble})\")\n",
        "    if inmueble[\"precio\"] <= p:\n",
        "      candidatos.append(inmueble)\n",
        "  return candidatos"
      ],
      "metadata": {
        "id": "t82Ph4Y0ei9I"
      },
      "execution_count": null,
      "outputs": []
    },
    {
      "cell_type": "code",
      "source": [
        "find_a_home(\n",
        "    [\n",
        "      {'año':2000, 'metros':100, 'habitaciones': 3, 'garaje': True, 'zona': 'A'},\n",
        "      {'año': 2012, 'metros': 60, 'habitaciones': 2, 'garaje': True, 'zona': 'B'},\n",
        "      {'año': 1980, 'metros': 120, 'habitaciones': 4, 'garaje': False, 'zona': 'A'},\n",
        "      {'año': 2005, 'metros': 75, 'habitaciones': 3, 'garaje': True, 'zona': 'B'},\n",
        "      {'año': 2015, 'metros': 90, 'habitaciones': 2, 'garaje': False, 'zona': 'A'}\n",
        "     ], 95000)"
      ],
      "metadata": {
        "colab": {
          "base_uri": "https://localhost:8080/"
        },
        "id": "XMvuELPKEAq3",
        "outputId": "ccd0d629-2739-4342-9639-9bc521e8f6f8"
      },
      "execution_count": null,
      "outputs": [
        {
          "output_type": "execute_result",
          "data": {
            "text/plain": [
              "[{'año': 1980,\n",
              "  'metros': 120,\n",
              "  'habitaciones': 4,\n",
              "  'garaje': False,\n",
              "  'zona': 'A',\n",
              "  'precio': 81200.00000000001},\n",
              " {'año': 2015,\n",
              "  'metros': 90,\n",
              "  'habitaciones': 2,\n",
              "  'garaje': False,\n",
              "  'zona': 'A',\n",
              "  'precio': 93000.0}]"
            ]
          },
          "metadata": {},
          "execution_count": 41
        }
      ]
    },
    {
      "cell_type": "markdown",
      "source": [
        "### **Ejercicio 5**\n",
        "Escribir una función que pida un número entero entre 1 y 10, lea el fichero tabla-n.txt con la tabla de multiplicar de ese número, donde n es el número introducido, y la muestre por pantalla. Si el fichero no existe debe mostrar un mensaje por pantalla informando de ello.\n",
        "\n",
        "Dentro del repositorio, en `sessions/20221223` se encuentra el directorio `tablas/` que contiene todos los archivos de texto que han de subirse en la misma carpeta en la que ejecuta este notebook."
      ],
      "metadata": {
        "id": "S2xUlEyIdAIp"
      }
    },
    {
      "cell_type": "code",
      "source": [
        "# Ejercicio 5\n",
        "def mostrar_tabla(n: int) -> None:\n",
        "  try:\n",
        "    with open(f\"tablas.txt/tabla-{n}.txt\", \"r\") as tabla:\n",
        "      print(tabla.read())\n",
        "  except FileNotFoundError:\n",
        "    print(f\"No se ha encontrado el archivo en la ruta tablas.txt/tabla-{n}.txt\")\n",
        "\n",
        "mostrar_tabla(4)"
      ],
      "metadata": {
        "id": "O4n3dK0rdDHj",
        "colab": {
          "base_uri": "https://localhost:8080/"
        },
        "outputId": "a076e49f-aca8-4188-f5aa-b8f5d21695a4"
      },
      "execution_count": null,
      "outputs": [
        {
          "output_type": "stream",
          "name": "stdout",
          "text": [
            "4 x 1 = 4\n",
            "4 x 2 = 8\n",
            "4 x 3 = 12\n",
            "4 x 4 = 16\n",
            "4 x 5 = 20\n",
            "4 x 6 = 24\n",
            "4 x 7 = 28\n",
            "4 x 8 = 32\n",
            "4 x 9 = 36\n",
            "4 x 10 = 40\n"
          ]
        }
      ]
    },
    {
      "cell_type": "markdown",
      "source": [
        "### **Ejercicio 6**\n",
        "Escribir un programa para gestionar un listín telefónico con los nombres y los teléfonos de los clientes de una empresa. \n",
        "\n",
        "El programa incorporará las siguientes funciones: Crear el fichero con el listín si no existe, consultar el teléfono de un cliente, añadir el teléfono de un nuevo cliente y eliminar el teléfono de un cliente. El listín debe estar guardado en el fichero de texto listin.txt donde el nombre del cliente y su teléfono deben aparecer separados por comas y cada cliente en una línea distinta.\n",
        "\n",
        "A continuación puedes crear el fichero con los siguiente texto añadido:\n",
        "```\n",
        "Pedro Blanco,987654321\n",
        "Marta Azul,978563412\n",
        "Lucas Amarillo,966853214\n",
        "```\n"
      ],
      "metadata": {
        "id": "bMIzZfKfekEj"
      }
    },
    {
      "cell_type": "code",
      "source": [
        "# Ejercicio 6\n",
        "def crear_listin() -> None:\n",
        "  try:\n",
        "    h = open(\"listin.txt\", \"r\")\n",
        "  except FileNotFoundError:\n",
        "    print(\"Creando el fichero\")\n",
        "    h = open(\"listin.txt\", \"r+\")\n",
        "  finally:\n",
        "    print(\"El fichero ya está creado\")\n",
        "    h.close()\n",
        "\n",
        "def consultar(nombre: str) -> None:\n",
        "  try:\n",
        "    with open(\"listin.txt\", \"r\") as listin:\n",
        "      for line in listin.readlines():\n",
        "        if line.split(\",\")[0] == nombre.title():\n",
        "          print(line.split(\",\")[1].strip())\n",
        "          return\n",
        "      print(\"No existe información del cliente proporcionado\")\n",
        "  except FileNotFoundError:\n",
        "    print(\"No existe el fichero listin.txt\")  \n",
        "\n",
        "def eliminar(nombre: str) -> None:\n",
        "  try:\n",
        "    with open(\"listin.txt\", \"r\") as listin_lectura:\n",
        "      lines = listin_lectura.readlines()\n",
        "      with open(\"listin.txt\", \"w\") as listin_escritura:\n",
        "        for line in lines:\n",
        "          if line.split(\",\")[0] != nombre.title():\n",
        "            listin_escritura.write(line)\n",
        "          else:\n",
        "            print(\"Borrando información del cliente\")\n",
        "  except FileNotFoundError:\n",
        "    print(\"No existe el fichero listin.txt\")"
      ],
      "metadata": {
        "id": "YXsLnQYNelZU"
      },
      "execution_count": null,
      "outputs": []
    },
    {
      "cell_type": "code",
      "source": [
        "crear_listin()\n",
        "consultar(\"Pedro Blanco\")\n",
        "consultar(\"Pedro Vasco\")\n",
        "eliminar(\"Pedro Blanco\")"
      ],
      "metadata": {
        "colab": {
          "base_uri": "https://localhost:8080/"
        },
        "id": "aOdSa9kBUnrx",
        "outputId": "810c4ba0-3ce9-49ea-d800-ea3e17e13aa3"
      },
      "execution_count": null,
      "outputs": [
        {
          "output_type": "stream",
          "name": "stdout",
          "text": [
            "El fichero ya está creado\n",
            "987654321\n",
            "No existe información del cliente proporcionado\n",
            "Borrando información del cliente\n"
          ]
        }
      ]
    },
    {
      "cell_type": "code",
      "source": [
        "consultar(\"Pedro Blanco\")"
      ],
      "metadata": {
        "colab": {
          "base_uri": "https://localhost:8080/"
        },
        "id": "RjHGv7bd3_Ph",
        "outputId": "9ee7bc15-e373-4b51-9146-63b329fcce06"
      },
      "execution_count": null,
      "outputs": [
        {
          "output_type": "stream",
          "name": "stdout",
          "text": [
            "No existe información del cliente proporcionado\n"
          ]
        }
      ]
    },
    {
      "cell_type": "markdown",
      "source": [
        "### **Ejercicio 7**\n",
        "El fichero **cotizacion.csv** (que se encuentra en el repositorio, en el directorio `sessions/20221223`) contiene las cotizaciones de las empresas del IBEX35 con las siguientes columnas:\n",
        "\n",
        "- **Nombre** (nombre de la empresa)\n",
        "- **Final** (precio de la acción al cierre de bolsa)\n",
        "- **Máximo** (precio máximo de la acción durante la jornada)\n",
        "- **Mínimo** (precio mínimo de la acción durante la jornada)\n",
        "- **Volumen** (Volumen al cierre de bolsa)\n",
        "- **Efectivo** (capitalización al cierre en miles de euros).\n",
        "\n",
        "Ahora bien:\n",
        "1. Construye una función reciba el fichero de cotizaciones y devuelva un diccionario con los datos del fichero por columnas.\n",
        "\n",
        "2. Construye una función que reciba el diccionario devuelto por la función anterior y cree un fichero en formato csv con el mínimo, el máximo y la media de cada columna.\n"
      ],
      "metadata": {
        "id": "X1p-8jZfel2i"
      }
    },
    {
      "cell_type": "code",
      "source": [
        "# Ejercicio 7\n",
        "def csv_to_dict(path: str) -> dict:\n",
        "  with open(path, \"r\") as csv:\n",
        "    lines = csv.readlines()\n",
        "    keys = [key.lower() for key in lines[0].strip().split(\";\")]\n",
        "    cotizaciones = dict.fromkeys(keys)\n",
        "    for values in lines[1:]:\n",
        "      for i, val in enumerate(values.strip().split(\";\")):\n",
        "        # Transform numerical values from string onto floats\n",
        "        if keys[i] == \"nombre\":\n",
        "          el = val\n",
        "        else:\n",
        "          el = float(val.replace(\".\", \"\").replace(\",\", \".\"))\n",
        "        # Add values to the dictionary\n",
        "        if isinstance(cotizaciones[keys[i]], list):\n",
        "          cotizaciones[keys[i]].append(el)\n",
        "        else:\n",
        "          cotizaciones[keys[i]] = list([el])\n",
        "  return cotizaciones\n",
        "\n",
        "def describe_dict(d: dict) -> None:\n",
        "  try:\n",
        "    with open(\"describe_cotizaciones.csv\", \"w+\") as dcot:\n",
        "      describe_line = []\n",
        "      for col in list(d.keys())[1:]:\n",
        "        describe_line.append(\n",
        "            \"|\".join(\n",
        "                [\n",
        "                    str(x) for x in [min(d[col]), max(d[col]), sum(d[col])/len(d[col])]\n",
        "                 ]\n",
        "            )\n",
        "        )\n",
        "      dcot.writelines([\";\".join(list(d.keys())[1:]) + \"\\n\", \";\".join(describe_line)])\n",
        "  except Exception as e:\n",
        "    print(\"Algo ha ido mal en el procedimiento: {}\".format(e))"
      ],
      "metadata": {
        "id": "4iXY6vQAenYV"
      },
      "execution_count": null,
      "outputs": []
    },
    {
      "cell_type": "code",
      "source": [
        "d = csv_to_dict(\"cotizacion.csv\")"
      ],
      "metadata": {
        "id": "4OYkekjdai96"
      },
      "execution_count": null,
      "outputs": []
    },
    {
      "cell_type": "code",
      "source": [
        "describe_dict(d)"
      ],
      "metadata": {
        "id": "GhG-RIb1ZCnt"
      },
      "execution_count": null,
      "outputs": []
    },
    {
      "cell_type": "markdown",
      "source": [
        "### **Ejercicio 8**\n",
        "Crea una clase llamada Cuenta que tendrá los siguientes atributos:\n",
        "\n",
        "- **titular** (que es una persona). Es obligatorio.\n",
        "- **cantidad** (puede tener decimales). Es opcional.\n",
        "\n",
        "Construye los siguientes métodos para la clase:\n",
        "\n",
        "1. Un constructor, donde los datos pueden estar vacíos.\n",
        "2. Los setters y getters para cada uno de los atributos. El atributo no se puede modificar directamente, sólo ingresando o retirando dinero.\n",
        "3. `mostrar()`: Muestra los datos de la cuenta.\n",
        "4. `ingresar(cantidad)`: se ingresa una cantidad a la cuenta, si la cantidad introducida es negativa, no se hará nada.\n",
        "5. `retirar(cantidad)`: se retira una cantidad a la cuenta. La cuenta puede estar en números rojos.\n",
        "\n"
      ],
      "metadata": {
        "id": "Uzhe7V34en_q"
      }
    },
    {
      "cell_type": "code",
      "source": [
        "# Ejercicio 8\n",
        "class Cuenta:\n",
        "  def __init__(self, titular=\"\", cantidad=0.0):\n",
        "    self._titular = titular\n",
        "    self._cantidad = cantidad\n",
        "  \n",
        "  def get_titular(self):\n",
        "    return self._titular\n",
        "\n",
        "  def set_titular(self, titular):\n",
        "    self._titular = titular\n",
        "  \n",
        "  def get_saldo(self):\n",
        "    return self._cantidad\n",
        "  \n",
        "  def set_saldo(self, saldo):\n",
        "    self._cantidad = saldo\n",
        "  \n",
        "  def mostrar(self):\n",
        "    print(\n",
        "        f\"La cuenta está asignada a {self._titular}\\n\"\n",
        "        f\"y dispone de un saldo de {self._cantidad}\")\n",
        "  \n",
        "  def ingresar(self, cantidad):\n",
        "    if cantidad > 0:\n",
        "      self.set_saldo(self.get_saldo() + cantidad)\n",
        "  \n",
        "  def retirar(self, cantidad):\n",
        "    self.set_saldo(self.get_saldo() - cantidad)"
      ],
      "metadata": {
        "id": "iDikBjQLeqPc"
      },
      "execution_count": null,
      "outputs": []
    },
    {
      "cell_type": "code",
      "source": [
        "cc = Cuenta(titular=\"Luis Ridruejo\", cantidad=1534)"
      ],
      "metadata": {
        "id": "nzLpidS5BSwY"
      },
      "execution_count": null,
      "outputs": []
    },
    {
      "cell_type": "code",
      "source": [
        "cc.retirar(2500)\n",
        "cc.ingresar(666)\n",
        "cc.get_saldo()"
      ],
      "metadata": {
        "colab": {
          "base_uri": "https://localhost:8080/"
        },
        "id": "srV5NFf7B4Td",
        "outputId": "25c01fb4-037a-40f3-b3cc-a94577ce2b06"
      },
      "execution_count": null,
      "outputs": [
        {
          "output_type": "execute_result",
          "data": {
            "text/plain": [
              "-300"
            ]
          },
          "metadata": {},
          "execution_count": 45
        }
      ]
    },
    {
      "cell_type": "code",
      "source": [
        "cc.set_titular(\"Lara Croft\")\n",
        "cc.get_titular()"
      ],
      "metadata": {
        "colab": {
          "base_uri": "https://localhost:8080/",
          "height": 36
        },
        "id": "kXNrWUa4CIfc",
        "outputId": "5b8f2a3d-3999-4459-f3fc-aaa829dc42f8"
      },
      "execution_count": null,
      "outputs": [
        {
          "output_type": "execute_result",
          "data": {
            "text/plain": [
              "'Lara Croft'"
            ],
            "application/vnd.google.colaboratory.intrinsic+json": {
              "type": "string"
            }
          },
          "metadata": {},
          "execution_count": 46
        }
      ]
    },
    {
      "cell_type": "code",
      "source": [
        "cc.mostrar()"
      ],
      "metadata": {
        "colab": {
          "base_uri": "https://localhost:8080/"
        },
        "id": "aiQBmID4CPSl",
        "outputId": "4554d9a9-bedf-4a25-b206-e86f8352f583"
      },
      "execution_count": null,
      "outputs": [
        {
          "output_type": "stream",
          "name": "stdout",
          "text": [
            "La cuenta está asignada a Lara Croft\n",
            "y disponed de un saldo de -300\n"
          ]
        }
      ]
    },
    {
      "cell_type": "markdown",
      "source": [
        "### **Ejercicio 9**\n",
        "Vamos a definir ahora una “Cuenta Joven”, para ello vamos a crear una nueva clase CuentaJoven que deriva de la anterior. Cuando se crea esta nueva clase, además del titular y la cantidad, se debe guardar una bonificación que estará expresada en tanto por ciento.\n",
        "\n",
        "Construye los siguientes métodos para la clase:\n",
        "\n",
        "1. Un constructor.\n",
        "2. Los setters y getters para el nuevo atributo.\n",
        "3. En esta ocasión los titulares de este tipo de cuenta tienen que ser mayor de edad, por lo tanto hay que crear un método `esTitularValido()` que devuelve `True` si el titular es mayor de edad pero menor de 25 años y false en caso contrario.\n",
        "4. Además la retirada de dinero sólo se podrá hacer si el titular es válido.\n",
        "5. El método `mostrar()` debe devolver el mensaje de `“Cuenta Joven”` y la bonificación de la cuenta.\n",
        "\n",
        "Piensa los métodos heredados de la clase madre que hay que reescribir.\n"
      ],
      "metadata": {
        "id": "l3Eo6fA3pzXu"
      }
    },
    {
      "cell_type": "code",
      "source": [
        "# Ejercicio 9\n",
        "class CuentaJoven(Cuenta):\n",
        "  def __init__(self, titular=\"\", titular_edad=0, cantidad=0.0, bonificacion=0.0):\n",
        "    super().__init__(titular, cantidad)\n",
        "    self._titular_edad = titular_edad\n",
        "    self._bonificacion = bonificacion\n",
        "  \n",
        "  def set_titular_edad(self, edad):\n",
        "    self._titular_edad = edad\n",
        "  \n",
        "  def get_titular_edad(self):\n",
        "    return self._titular_edad\n",
        "  \n",
        "  def set_bonificacion(self, bonificacion):\n",
        "    self._bonificacion = bonificacion\n",
        "  \n",
        "  def get_bonificacion(self):\n",
        "    return self._bonificacion\n",
        "  \n",
        "  def esTitularValido(self):\n",
        "    return self._titular_edad >= 18 and self._titular_edad < 25\n",
        "  \n",
        "  def retirar(self, cantidad):\n",
        "    if self.esTitularValido():\n",
        "      super().retirar(cantidad)\n",
        "    \n",
        "  def mostrar(self):\n",
        "    print(\"Cuenta Joven\\n\", self._bonificacion)"
      ],
      "metadata": {
        "id": "S0cfos9wpV2v"
      },
      "execution_count": null,
      "outputs": []
    },
    {
      "cell_type": "code",
      "source": [
        "cj = CuentaJoven()"
      ],
      "metadata": {
        "id": "6ynTsyrxEvwu"
      },
      "execution_count": null,
      "outputs": []
    },
    {
      "cell_type": "code",
      "source": [
        "cj.set_titular(\"Antonio Riquelme\")\n",
        "cj.set_saldo(13023.56)\n",
        "cj.set_titular_edad(24)\n",
        "cj.set_bonificacion(17.45)\n",
        "\n",
        "print(\n",
        "    cj.get_titular(),\n",
        "    cj.get_saldo(),\n",
        "    cj.get_titular_edad(),\n",
        "    cj.get_bonificacion())"
      ],
      "metadata": {
        "colab": {
          "base_uri": "https://localhost:8080/"
        },
        "id": "vR4_6j5XEy6_",
        "outputId": "0e8120c1-791e-4838-c1bd-a440df86f687"
      },
      "execution_count": null,
      "outputs": [
        {
          "output_type": "stream",
          "name": "stdout",
          "text": [
            "Antonio Riquelme 13023.56 24 17.45\n"
          ]
        }
      ]
    },
    {
      "cell_type": "code",
      "source": [
        "cj.retirar(12530)\n",
        "cj.get_saldo()"
      ],
      "metadata": {
        "colab": {
          "base_uri": "https://localhost:8080/"
        },
        "id": "IEuo5yIzFimY",
        "outputId": "bb8c7203-4d7d-4f8b-bb71-55453ad32984"
      },
      "execution_count": null,
      "outputs": [
        {
          "output_type": "execute_result",
          "data": {
            "text/plain": [
              "493.5599999999995"
            ]
          },
          "metadata": {},
          "execution_count": 57
        }
      ]
    },
    {
      "cell_type": "code",
      "source": [
        "# Feliz cumpleaños Antonio Riquelme!\n",
        "cj.set_titular_edad(25)\n",
        "cj.retirar(500)\n",
        "cj.get_saldo()"
      ],
      "metadata": {
        "colab": {
          "base_uri": "https://localhost:8080/"
        },
        "id": "a8r6EnOmFZgC",
        "outputId": "560114f0-4447-43ab-a6c1-0ee509e14421"
      },
      "execution_count": null,
      "outputs": [
        {
          "output_type": "execute_result",
          "data": {
            "text/plain": [
              "493.5599999999995"
            ]
          },
          "metadata": {},
          "execution_count": 59
        }
      ]
    },
    {
      "cell_type": "code",
      "source": [
        "cj.mostrar()"
      ],
      "metadata": {
        "colab": {
          "base_uri": "https://localhost:8080/"
        },
        "id": "piQeAXCiF3EW",
        "outputId": "1000f151-a495-466d-f026-b7ca24f44176"
      },
      "execution_count": null,
      "outputs": [
        {
          "output_type": "stream",
          "name": "stdout",
          "text": [
            "Cuenta Joven\n",
            " 17.45\n"
          ]
        }
      ]
    }
  ]
}