{
  "nbformat": 4,
  "nbformat_minor": 0,
  "metadata": {
    "kernelspec": {
      "display_name": "Python 3",
      "language": "python",
      "name": "python3"
    },
    "language_info": {
      "codemirror_mode": {
        "name": "ipython",
        "version": 3
      },
      "file_extension": ".py",
      "mimetype": "text/x-python",
      "name": "python",
      "nbconvert_exporter": "python",
      "pygments_lexer": "ipython3",
      "version": "3.7.4"
    },
    "colab": {
      "provenance": []
    }
  },
  "cells": [
    {
      "cell_type": "markdown",
      "metadata": {
        "id": "AkL5gXH1yxKE"
      },
      "source": [
        "<style type=\"text/css\">\n",
        "    ol { list-style-type: upper-alpha; }\n",
        "</style>\n",
        "\n",
        "<center> <img src=https://i.imgur.com/0TSSaqL.png width=\"550\"> </center>\n",
        "\n",
        "<center> <h3> Module 3: Programación en Python </h3> </center>\n",
        "<center> <h4> Sesiones síncronas - 20221209 - 2/2</h4> </center>"
      ]
    },
    {
      "cell_type": "markdown",
      "source": [
        "### Ejercicio 11\n",
        "Escribir un programa que pregunte al usuario por el número de horas trabajadas y el coste por hora. Después debe mostrar por pantalla la paga que le corresponde."
      ],
      "metadata": {
        "id": "HzCWpkBWPuTh"
      }
    },
    {
      "cell_type": "code",
      "source": [
        "# Ejercicio 11"
      ],
      "metadata": {
        "id": "Lb1gawdBRQsB"
      },
      "execution_count": null,
      "outputs": []
    },
    {
      "cell_type": "markdown",
      "source": [
        "### Ejercicio 12\n",
        "Escribir un programa que lea un entero positivo, n, introducido por el usuario y después muestre en pantalla la suma de todos los enteros desde 1 hasta n. La suma de los n primeros enteros positivos puede ser calculada de la siguiente forma:\n",
        "\\begin{equation}\n",
        "\\mathrm{suma} = \\frac{n \\left( n + {1} \\right)}{{2}}\n",
        "\\end{equation}"
      ],
      "metadata": {
        "id": "icj-e9UIv-TX"
      }
    },
    {
      "cell_type": "code",
      "source": [
        "# Ejercicio 12"
      ],
      "metadata": {
        "id": "6npQkEYdwgO3"
      },
      "execution_count": null,
      "outputs": []
    },
    {
      "cell_type": "markdown",
      "source": [
        "### Ejercicio 13\n",
        "Escribir un programa que pida al usuario dos números enteros y muestre por pantalla:\n",
        "```\n",
        "La división de n entre m da un cociente c y un resto r\n",
        "```\n",
        "Donde n y m son los números introducidos, c es el cociente de la división entera y r el resto.\n",
        "\n",
        "Pista: en Python 3.x.y el operador `/` lleva a cabo la división real, mientras que `//` lleva a cabo la entera, y `%` nos permite encontrar el módulo de un número frente a otro, o lo que es lo mismo, el resto de la división entera de un número entre otro."
      ],
      "metadata": {
        "id": "vIKiFbevhWhz"
      }
    },
    {
      "cell_type": "code",
      "source": [
        "# Ejercicio 13"
      ],
      "metadata": {
        "colab": {
          "base_uri": "https://localhost:8080/"
        },
        "id": "Rp9JTQC6hUfi",
        "outputId": "ec3b5a10-4a9f-4cc9-d696-385fcb4770cf"
      },
      "execution_count": null,
      "outputs": [
        {
          "output_type": "execute_result",
          "data": {
            "text/plain": [
              "5.0"
            ]
          },
          "metadata": {},
          "execution_count": 6
        }
      ]
    },
    {
      "cell_type": "markdown",
      "source": [
        "### Ejercicio 14\n",
        "Escribir un programa que pregunte el nombre del usuario en la consola y después de que el usuario lo introduzca muestre por pantalla el mensaje:\n",
        "```\n",
        "x tiene n letras\n",
        "```\n",
        "donde x es el nombre introducido en mayúsculas y n es el número de letras que tienen el nombre."
      ],
      "metadata": {
        "id": "QnRPZIL4Tn7b"
      }
    },
    {
      "cell_type": "code",
      "source": [
        "# Ejercicio 14"
      ],
      "metadata": {
        "id": "0SgQB0rZTizb"
      },
      "execution_count": null,
      "outputs": []
    },
    {
      "cell_type": "markdown",
      "source": [
        "### Ejercicio 15\n",
        "Una juguetería tiene mucho éxito en dos de sus productos: payasos y muñecas. Suele hacer venta por correo y la empresa de logística les cobra por peso de cada paquete así que deben calcular el peso de los payasos y muñecas que saldrán en cada paquete a demanda. Cada payaso pesa 112 g y cada muñeca 75 g. Escribir un programa que lea el número de payasos y muñecas vendidos en el último pedido y calcule el peso total del paquete que será enviado."
      ],
      "metadata": {
        "id": "NvFeiWtbVW7s"
      }
    },
    {
      "cell_type": "code",
      "source": [
        "# Ejercicio 15"
      ],
      "metadata": {
        "id": "pa-kn6xTVudQ"
      },
      "execution_count": null,
      "outputs": []
    },
    {
      "cell_type": "markdown",
      "source": [
        "### Ejercicio 16\n",
        "Una panadería vende barras de pan a 3.49€ cada una. El pan que no es el día tiene un descuento del 60%. Escribir un programa que comience leyendo el número de barras vendidas que no son del día. Después el programa debe mostrar el precio habitual de una barra de pan, el descuento que se le hace por no ser fresca y el coste final total."
      ],
      "metadata": {
        "id": "a7FWLMXuWP40"
      }
    },
    {
      "cell_type": "code",
      "source": [
        "# Ejercicio 16"
      ],
      "metadata": {
        "id": "t82Ph4Y0ei9I"
      },
      "execution_count": null,
      "outputs": []
    },
    {
      "cell_type": "markdown",
      "source": [
        "### Ejercicio 17\n",
        "Escribir un programa que le solicite al usuario ingresar una fecha formada por 8 números, donde los primeros cuatro representan el año, los siguientes dos el mes y los últimos dos el día (AAAAMMDD). Este dato debe guardarse en una variable con tipo int (número entero). Finalmente, mostrar al usuario la fecha con el formato \"DD / MM / AAAA\"."
      ],
      "metadata": {
        "id": "S2xUlEyIdAIp"
      }
    },
    {
      "cell_type": "code",
      "source": [
        "# Ejercicio 17"
      ],
      "metadata": {
        "id": "O4n3dK0rdDHj"
      },
      "execution_count": null,
      "outputs": []
    },
    {
      "cell_type": "markdown",
      "source": [
        "### Ejercicio 18\n",
        "Escribir un programa que pregunte el nombre completo del usuario en la consola y después muestre por pantalla el nombre completo del usuario tres veces:\n",
        "1. Una con todas las letras minúsculas\n",
        "2. Otra con todas las letras mayúsculas\n",
        "3. Y otra solo con la primera letra del nombre y de los apellidos en mayúscula. \n",
        "\n",
        "El usuario puede introducir su nombre combinando mayúsculas y minúsculas como quiera.\n",
        "\n",
        "Pista: https://codeofgeeks.com/upper-lower-swapcase-title-capitalize-methods-in-python-strings/"
      ],
      "metadata": {
        "id": "bMIzZfKfekEj"
      }
    },
    {
      "cell_type": "code",
      "source": [
        "# Ejercicio 18"
      ],
      "metadata": {
        "id": "YXsLnQYNelZU"
      },
      "execution_count": null,
      "outputs": []
    },
    {
      "cell_type": "markdown",
      "source": [
        "### Ejercicio 19\n",
        "Escribir un programa que solicite al usuario el ingreso de una temperatura en escala Fahrenheit (debe permitir decimales) y le muestre el equivalente en grados Celsius redondeado a 2 decimales. \n",
        "\\begin{equation}\n",
        "C = \\frac{5}{{9}} \\left(F - 32 \\right)\n",
        "\\end{equation}\n",
        "\n",
        "Pista: la función `round(n, d)` en Python redondea el número n a un número de dígitos d."
      ],
      "metadata": {
        "id": "X1p-8jZfel2i"
      }
    },
    {
      "cell_type": "code",
      "source": [
        "# Ejercicio 19"
      ],
      "metadata": {
        "id": "4iXY6vQAenYV"
      },
      "execution_count": null,
      "outputs": []
    },
    {
      "cell_type": "markdown",
      "source": [
        "### Ejercicio 20\n",
        "Escribir un programa que pida al usuario que introduzca una frase en la consola y una vocal en minúscula, y después muestre por pantalla la misma frase pero con la vocal introducida en mayúscula.\n",
        "```\n",
        "aprende a programar con Python → Aprende A progrAmAr con Python\n",
        "```\n",
        "Pista: utilizar la función `replace(a, b)` que modifica el valor a por el b sobre la cadena de texto, i.e. `\"patata\".replace(\"a\", \"o\")` resultaría en `\"pototo\"`"
      ],
      "metadata": {
        "id": "FN3Qw9xvoi_T"
      }
    },
    {
      "cell_type": "code",
      "source": [
        "# Ejercicio 20"
      ],
      "metadata": {
        "id": "dziOUFvsvD_H"
      },
      "execution_count": null,
      "outputs": []
    },
    {
      "cell_type": "markdown",
      "source": [
        "### Ejercicio 20\n"
      ],
      "metadata": {
        "id": "wH5Y19izusJv"
      }
    }
  ]
}