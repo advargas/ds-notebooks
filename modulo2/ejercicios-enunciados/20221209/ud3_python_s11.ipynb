{
  "nbformat": 4,
  "nbformat_minor": 0,
  "metadata": {
    "kernelspec": {
      "display_name": "Python 3",
      "language": "python",
      "name": "python3"
    },
    "language_info": {
      "codemirror_mode": {
        "name": "ipython",
        "version": 3
      },
      "file_extension": ".py",
      "mimetype": "text/x-python",
      "name": "python",
      "nbconvert_exporter": "python",
      "pygments_lexer": "ipython3",
      "version": "3.7.4"
    },
    "colab": {
      "provenance": []
    }
  },
  "cells": [
    {
      "cell_type": "markdown",
      "metadata": {
        "id": "AkL5gXH1yxKE"
      },
      "source": [
        "<style type=\"text/css\">\n",
        "    ol { list-style-type: upper-alpha; }\n",
        "</style>\n",
        "\n",
        "<center> <img src=https://i.imgur.com/0TSSaqL.png width=\"550\"> </center>\n",
        "\n",
        "<center> <h3> Module 3: Programación en Python </h3> </center>\n",
        "<center> <h4> Sesiones síncronas - 20221209 - 1/2</h4> </center>"
      ]
    },
    {
      "cell_type": "markdown",
      "source": [
        "### Ejercicio 1\n",
        "Escribe cuatro programas que:\n",
        "- Asigne a una variable el valor 3 y nos muestre esa variable y su tipo.\n",
        "- Asigne a una variable el valor 14.2 y nos muestre esa variable y su tipo.\n",
        "- Asigne a una variable el valor True y nos muestre esa variable y su tipo.\n",
        "- Asigne a una variable el valor \"Data Science\" y nos muestre esa variable y su tipo."
      ],
      "metadata": {
        "id": "HzCWpkBWPuTh"
      }
    },
    {
      "cell_type": "code",
      "source": [
        "# Ejercicio 1"
      ],
      "metadata": {
        "id": "Lb1gawdBRQsB"
      },
      "execution_count": null,
      "outputs": []
    },
    {
      "cell_type": "markdown",
      "source": [
        "### **Ejercicio 2**\n",
        "Escribir un programa que pregunte al usuario su nombre y luego lo salude"
      ],
      "metadata": {
        "id": "QnRPZIL4Tn7b"
      }
    },
    {
      "cell_type": "code",
      "source": [
        "# Ejercicio 2"
      ],
      "metadata": {
        "id": "0SgQB0rZTizb"
      },
      "execution_count": null,
      "outputs": []
    },
    {
      "cell_type": "markdown",
      "source": [
        "### **Ejercicio 3**\n",
        "Escribir un programa que pregunte al usuario dos números y luego muestre:\n",
        "1. La suma\n",
        "2. La resta\n",
        "3. La división\n",
        "4. El producto"
      ],
      "metadata": {
        "id": "NvFeiWtbVW7s"
      }
    },
    {
      "cell_type": "code",
      "source": [
        "# Ejercicio 3"
      ],
      "metadata": {
        "id": "pa-kn6xTVudQ"
      },
      "execution_count": null,
      "outputs": []
    },
    {
      "cell_type": "markdown",
      "source": [
        "### Ejercicio 4\n",
        "Escribir un programa que pregunte al usuario los valor booleanos de verdad y falso guardándolos en dos variables, y utilizarlas para mostrar por pantalla las tablas de verdad de la conjunción A∧B, mediante el uso de operadores.\n",
        "\n",
        "Pista: en el caso de los booleanos, en el sistema I/O, es necesario utilizar la función eval() para traducir los inputs de cadenas de texto a booleanos ya que el uso de bool() validaría que hemos introducido información, no lo transforma"
      ],
      "metadata": {
        "id": "a7FWLMXuWP40"
      }
    },
    {
      "cell_type": "code",
      "source": [
        "# Ejercicio 4"
      ],
      "metadata": {
        "id": "t82Ph4Y0ei9I"
      },
      "execution_count": null,
      "outputs": []
    },
    {
      "cell_type": "markdown",
      "source": [
        "### Ejercicio 5\n",
        "Escribir un programa que pregunte al usuario los valor booleanos de verdad y falso guardándolos en dos variables, y utilizarlas para mostrar por pantalla las tablas de verdad de la conjunción AvB, mediante el uso de operadores.\n",
        "\n",
        "Pista: en el caso de los booleanos, en el sistema I/O, es necesario utilizar la función eval() para traducir los inputs de cadenas de texto a booleanos ya que el uso de bool() validaría que hemos introducido información, no lo transforma"
      ],
      "metadata": {
        "id": "S2xUlEyIdAIp"
      }
    },
    {
      "cell_type": "code",
      "source": [
        "# Ejercicio 5"
      ],
      "metadata": {
        "id": "O4n3dK0rdDHj"
      },
      "execution_count": null,
      "outputs": []
    },
    {
      "cell_type": "markdown",
      "source": [
        "### Ejercicio 6\n",
        "Escribir un programa que asigne en variables distintas los nombres de los profesores del máster en data science de IMMUNE que habéis conocido hasta ahora y por pantalla muestre, en líneas distintas, el siguiente output:\n",
        "```\n",
        "Asignatura: y - x\n",
        "```\n",
        "dónde x es el nombre del profesor/a e y es la asignatura cubierta.\n",
        "\n",
        "(Pista: en caso de querer utilizar una única llamada a la función print, utilizar el carácter ``\\n`` para hacer un salto de línea)"
      ],
      "metadata": {
        "id": "bMIzZfKfekEj"
      }
    },
    {
      "cell_type": "code",
      "source": [
        "# Ejercicio 6"
      ],
      "metadata": {
        "id": "YXsLnQYNelZU"
      },
      "execution_count": null,
      "outputs": []
    },
    {
      "cell_type": "markdown",
      "source": [
        "### Ejercicio 7\n",
        "Escribir un programa que solicite al usuario el radio de una esfera y muestre su área\n",
        "\n",
        "\\begin{equation}\n",
        "\\mathrm{A}(r) = {4} {\\pi} r^{{2}}\n",
        "\\end{equation}\n",
        "\n",
        "y su volúmen\n",
        "\\begin{equation}\n",
        "\\mathrm{V}(r) = \\frac{{4}}{{3}} {\\pi} r^{{3}}\n",
        "\\end{equation}\n",
        "\n",
        "Bastaría con definir en una variable una estimación del numero pi."
      ],
      "metadata": {
        "id": "X1p-8jZfel2i"
      }
    },
    {
      "cell_type": "code",
      "source": [
        "# Ejercicio 7\n",
        "# Ejemplo: un radio de 15.7 resultaría en un área de 3097.39 y un volúmen de 16209.69"
      ],
      "metadata": {
        "id": "4iXY6vQAenYV"
      },
      "execution_count": null,
      "outputs": []
    },
    {
      "cell_type": "markdown",
      "source": [
        "### Ejercicio 8\n",
        "Escribir un programa que solicite las coordernadas de dos puntos en el plano de los reales y calculer la distancia euclídea entre ambos.\n",
        "\n",
        "\\begin{equation}\n",
        "\\mathrm{d}(p1, p2) = \\sqrt{\\left( x_2 - x_1 \\right)^{{2}} + \\left( y_2 - y_1 \\right)^{{2}}}\n",
        "\\end{equation}"
      ],
      "metadata": {
        "id": "Uzhe7V34en_q"
      }
    },
    {
      "cell_type": "code",
      "source": [
        "# Ejercicio 8\n",
        "# Ejemplo: la distancia entre los puntos p1 = (2, 6) y p2 = (3, 6) es 1"
      ],
      "metadata": {
        "id": "iDikBjQLeqPc"
      },
      "execution_count": null,
      "outputs": []
    },
    {
      "cell_type": "markdown",
      "source": [
        "### Ejercicio 9\n",
        "Escribir un programa que pida al usuario un capital inicial, una tasa de interés y un número de años. Muestra por pantalla en cuánto se habrá convertido el capital inicial transcurridos esos años si cada año se aplica la tasa de interés introducida.\n",
        "\n",
        "Pista: Recuerda que un capital de C euros a un interés del x% durante n años se convierten en\n",
        "\\begin{equation}\n",
        "C \\left( {1} + \\frac{x}{{100}} \\right)^{n}\n",
        "\\end{equation}\n",
        "\n",
        "\n",
        "\n"
      ],
      "metadata": {
        "id": "Ft-kvGV8eqqs"
      }
    },
    {
      "cell_type": "code",
      "source": [
        "# Ejercicio 9\n",
        "# Ejemplo: 10000 euros al 4.5% de interés anual se convierte en 24117.14 al cabo de 20 años"
      ],
      "metadata": {
        "id": "5adfrNdzerQO"
      },
      "execution_count": null,
      "outputs": []
    },
    {
      "cell_type": "markdown",
      "source": [
        "### Ejercicio 10\n",
        "Escribir un programa que solicite los valores de los coeficientes a, b y c de una ecuación de segundo grado, donde:\n",
        "\\begin{equation}\n",
        "a x^{{2}} + b x + c = 0\n",
        "\\end{equation}\n",
        "\n",
        "Muestre las soluciones de la ecuación.\n",
        "\n",
        "Pista: Recuerda que una ecuación de segundo grado acepta dos soluciones\n",
        "\\begin{equation}\n",
        "{x_1} = \\frac{-b + \\sqrt{b^{{2}} - {4} a c}}{{2} a}, \n",
        "{x_2} = \\frac{-b - \\sqrt{b^{{2}} - {4} a c}}{{2} a}\n",
        "\\end{equation}\n",
        "\n"
      ],
      "metadata": {
        "id": "wP05IyZzerkf"
      }
    },
    {
      "cell_type": "code",
      "source": [
        "# Ejercicio 10\n",
        "# Ejemplo: una ecuación de segundo grado con coeficientes a = 1, b = -5 y c = 6 tiene como soluciones x1 = 3 y x2 = 2"
      ],
      "metadata": {
        "id": "nsbsWR_fesIG"
      },
      "execution_count": null,
      "outputs": []
    }
  ]
}