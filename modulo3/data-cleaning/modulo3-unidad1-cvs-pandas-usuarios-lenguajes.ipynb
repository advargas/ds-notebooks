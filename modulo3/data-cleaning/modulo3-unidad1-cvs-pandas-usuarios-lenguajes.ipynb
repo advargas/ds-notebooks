{
 "cells": [
  {
   "cell_type": "markdown",
   "id": "cd6211d2",
   "metadata": {},
   "source": [
    "# CSV"
   ]
  },
  {
   "cell_type": "code",
   "execution_count": null,
   "id": "953d0330",
   "metadata": {},
   "outputs": [],
   "source": [
    "import pandas as pd\n",
    "\n",
    "df = pd.read_csv(\"usuarios_lenguajes.csv\") \n",
    "print(df)"
   ]
  },
  {
   "cell_type": "code",
   "execution_count": 3,
   "id": "9e90fa65",
   "metadata": {},
   "outputs": [
    {
     "name": "stdout",
     "output_type": "stream",
     "text": [
      "        0   1   2   3\n",
      "0  python  56  30  26\n",
      "1    java  21   8  13\n",
      "2   scala  32  15  17\n",
      "3       r  12   9   3\n",
      "4     c++  23  13  10\n"
     ]
    }
   ],
   "source": [
    "df2 = pd.read_csv(\"usuarios_lenguajes2.csv\", header=None)\n",
    "print(df2)"
   ]
  },
  {
   "cell_type": "code",
   "execution_count": 4,
   "id": "28c3f832",
   "metadata": {},
   "outputs": [
    {
     "name": "stdout",
     "output_type": "stream",
     "text": [
      "  lenguaje  usuarios  hombres  mujeres\n",
      "0   python        56       30       26\n",
      "1     java        21        8       13\n",
      "2    scala        32       15       17\n",
      "3        r        12        9        3\n",
      "4      c++        23       13       10\n"
     ]
    }
   ],
   "source": [
    "df3 = pd.read_csv(\"usuarios_lenguajes3.csv\", index_col=0) \n",
    "print(df3)"
   ]
  },
  {
   "cell_type": "markdown",
   "id": "3729a6f7",
   "metadata": {},
   "source": [
    "## Atributos DataFrame\n",
    "- df.info() : Devuelve información (número de filas, número de columnas, índices, tipo de las columnas y memoria usado) sobre el DataFrame df.\n",
    "\n",
    "- df.shape : Devuelve una tupla con el número de filas y columnas del DataFrame df.\n",
    "\n",
    "- df.size : Devuelve el número de elementos del DataFrame.\n",
    "\n",
    "- df.columns : Devuelve una lista con los nombres de las columnas del DataFrame df.\n",
    "\n",
    "- df.index : Devuelve una lista con los nombres de las filas del DataFrame df.\n",
    "\n",
    "- df.dtypes : Devuelve una serie con los tipos de datos de las columnas del DataFrame df.\n",
    "\n",
    "- df.head(n) : Devuelve las n primeras filas del DataFrame df.\n",
    "\n",
    "- df.tail(n) : Devuelve las n últimas filas del DataFrame df."
   ]
  },
  {
   "cell_type": "code",
   "execution_count": 5,
   "id": "8077770a",
   "metadata": {},
   "outputs": [
    {
     "name": "stdout",
     "output_type": "stream",
     "text": [
      "<class 'pandas.core.frame.DataFrame'>\n",
      "RangeIndex: 5 entries, 0 to 4\n",
      "Data columns (total 4 columns):\n",
      " #   Column    Non-Null Count  Dtype \n",
      "---  ------    --------------  ----- \n",
      " 0   lenguaje  5 non-null      object\n",
      " 1   usuarios  5 non-null      int64 \n",
      " 2   hombres   5 non-null      int64 \n",
      " 3   mujeres   5 non-null      int64 \n",
      "dtypes: int64(3), object(1)\n",
      "memory usage: 288.0+ bytes\n"
     ]
    }
   ],
   "source": [
    "df.info()"
   ]
  },
  {
   "cell_type": "code",
   "execution_count": 6,
   "id": "73dad5b3",
   "metadata": {},
   "outputs": [
    {
     "data": {
      "text/plain": [
       "(5, 4)"
      ]
     },
     "execution_count": 6,
     "metadata": {},
     "output_type": "execute_result"
    }
   ],
   "source": [
    "df.shape"
   ]
  },
  {
   "cell_type": "code",
   "execution_count": 7,
   "id": "936493cb",
   "metadata": {},
   "outputs": [
    {
     "data": {
      "text/plain": [
       "20"
      ]
     },
     "execution_count": 7,
     "metadata": {},
     "output_type": "execute_result"
    }
   ],
   "source": [
    "df.size"
   ]
  },
  {
   "cell_type": "code",
   "execution_count": 8,
   "id": "772cdcc7",
   "metadata": {},
   "outputs": [
    {
     "data": {
      "text/plain": [
       "Index(['lenguaje', 'usuarios', 'hombres', 'mujeres'], dtype='object')"
      ]
     },
     "execution_count": 8,
     "metadata": {},
     "output_type": "execute_result"
    }
   ],
   "source": [
    "df.columns"
   ]
  },
  {
   "cell_type": "code",
   "execution_count": 9,
   "id": "70fd4d9b",
   "metadata": {},
   "outputs": [
    {
     "data": {
      "text/plain": [
       "RangeIndex(start=0, stop=5, step=1)"
      ]
     },
     "execution_count": 9,
     "metadata": {},
     "output_type": "execute_result"
    }
   ],
   "source": [
    "df.index"
   ]
  },
  {
   "cell_type": "code",
   "execution_count": 10,
   "id": "c38b4b77",
   "metadata": {},
   "outputs": [
    {
     "data": {
      "text/plain": [
       "lenguaje    object\n",
       "usuarios     int64\n",
       "hombres      int64\n",
       "mujeres      int64\n",
       "dtype: object"
      ]
     },
     "execution_count": 10,
     "metadata": {},
     "output_type": "execute_result"
    }
   ],
   "source": [
    "df.dtypes"
   ]
  },
  {
   "cell_type": "code",
   "execution_count": 11,
   "id": "5d4cd1eb",
   "metadata": {},
   "outputs": [
    {
     "data": {
      "text/html": [
       "<div>\n",
       "<style scoped>\n",
       "    .dataframe tbody tr th:only-of-type {\n",
       "        vertical-align: middle;\n",
       "    }\n",
       "\n",
       "    .dataframe tbody tr th {\n",
       "        vertical-align: top;\n",
       "    }\n",
       "\n",
       "    .dataframe thead th {\n",
       "        text-align: right;\n",
       "    }\n",
       "</style>\n",
       "<table border=\"1\" class=\"dataframe\">\n",
       "  <thead>\n",
       "    <tr style=\"text-align: right;\">\n",
       "      <th></th>\n",
       "      <th>lenguaje</th>\n",
       "      <th>usuarios</th>\n",
       "      <th>hombres</th>\n",
       "      <th>mujeres</th>\n",
       "    </tr>\n",
       "  </thead>\n",
       "  <tbody>\n",
       "    <tr>\n",
       "      <th>0</th>\n",
       "      <td>python</td>\n",
       "      <td>56</td>\n",
       "      <td>30</td>\n",
       "      <td>26</td>\n",
       "    </tr>\n",
       "    <tr>\n",
       "      <th>1</th>\n",
       "      <td>java</td>\n",
       "      <td>21</td>\n",
       "      <td>8</td>\n",
       "      <td>13</td>\n",
       "    </tr>\n",
       "  </tbody>\n",
       "</table>\n",
       "</div>"
      ],
      "text/plain": [
       "  lenguaje  usuarios  hombres  mujeres\n",
       "0   python        56       30       26\n",
       "1     java        21        8       13"
      ]
     },
     "execution_count": 11,
     "metadata": {},
     "output_type": "execute_result"
    }
   ],
   "source": [
    "df.head(2)"
   ]
  },
  {
   "cell_type": "code",
   "execution_count": 12,
   "id": "c52988d5",
   "metadata": {},
   "outputs": [
    {
     "data": {
      "text/html": [
       "<div>\n",
       "<style scoped>\n",
       "    .dataframe tbody tr th:only-of-type {\n",
       "        vertical-align: middle;\n",
       "    }\n",
       "\n",
       "    .dataframe tbody tr th {\n",
       "        vertical-align: top;\n",
       "    }\n",
       "\n",
       "    .dataframe thead th {\n",
       "        text-align: right;\n",
       "    }\n",
       "</style>\n",
       "<table border=\"1\" class=\"dataframe\">\n",
       "  <thead>\n",
       "    <tr style=\"text-align: right;\">\n",
       "      <th></th>\n",
       "      <th>lenguaje</th>\n",
       "      <th>usuarios</th>\n",
       "      <th>hombres</th>\n",
       "      <th>mujeres</th>\n",
       "    </tr>\n",
       "  </thead>\n",
       "  <tbody>\n",
       "    <tr>\n",
       "      <th>3</th>\n",
       "      <td>r</td>\n",
       "      <td>12</td>\n",
       "      <td>9</td>\n",
       "      <td>3</td>\n",
       "    </tr>\n",
       "    <tr>\n",
       "      <th>4</th>\n",
       "      <td>c++</td>\n",
       "      <td>23</td>\n",
       "      <td>13</td>\n",
       "      <td>10</td>\n",
       "    </tr>\n",
       "  </tbody>\n",
       "</table>\n",
       "</div>"
      ],
      "text/plain": [
       "  lenguaje  usuarios  hombres  mujeres\n",
       "3        r        12        9        3\n",
       "4      c++        23       13       10"
      ]
     },
     "execution_count": 12,
     "metadata": {},
     "output_type": "execute_result"
    }
   ],
   "source": [
    "df.tail(2) "
   ]
  },
  {
   "cell_type": "markdown",
   "id": "840a0680",
   "metadata": {},
   "source": [
    "## Renombrar los nombres de las filas y columnas\n",
    "- df.rename(columns=columnas, index=filas): Devuelve el DataFrame que resulta de renombrar las columnas indicadas en las claves del diccionario columnas con sus valores y las filas indicadas en las claves del diccionario filas con sus valores en el DataFrame df."
   ]
  },
  {
   "cell_type": "code",
   "execution_count": 15,
   "id": "aa605f51",
   "metadata": {},
   "outputs": [
    {
     "name": "stdout",
     "output_type": "stream",
     "text": [
      "  lenguaje  users  hombres  mujeres\n",
      "0   python     56       30       26\n",
      "1     java     21        8       13\n",
      "2    scala     32       15       17\n",
      "3        r     12        9        3\n",
      "4      c++     23       13       10\n"
     ]
    }
   ],
   "source": [
    "print(df.rename(columns={'usuarios':'users'}))"
   ]
  },
  {
   "cell_type": "markdown",
   "id": "68e46e4d",
   "metadata": {},
   "source": [
    "## Acceso a los elementos de un DataFrame\n",
    "ACCESO MEDIANTE POSICIONES\n",
    "- df.iloc[i, j] : Devuelve el elemento que se encuentra en la fila i y la columna j del DataFrame df. Pueden indicarse secuencias de índices para obtener partes del DataFrame.\n",
    "- df.iloc[filas, columnas] : Devuelve un DataFrame con los elementos de las filas de la lista filas y de las columnas de la lista columnas.\n",
    "\n",
    "- df.iloc[i] : Devuelve una serie con los elementos de la fila i del DataFrame df.\n",
    "\n",
    "ACCESO MEDIANTE NOMBRES\n",
    "- df.loc[fila, columna] : Devuelve el elemento que se encuentra en la fila con nombre fila y la columna de con nombre columna del DataFrame df.\n",
    "- df.loc[filas, columnas] : Devuelve un DataFrame con los elemento que se encuentra en las filas con los nombres de la lista filas y las columnas con los nombres de la lista columnas del DataFrame df.\n",
    "- df[columna] : Devuelve una serie con los elementos de la columna de nombre columna del DataFrame df.\n",
    "- df.columna : Devuelve una serie con los elementos de la columna de nombre columna del DataFrame df. Es similar al método anterior pero solo funciona cuando el nombre de la columna no tiene espacios en blanco."
   ]
  },
  {
   "cell_type": "code",
   "execution_count": 16,
   "id": "ed54da7b",
   "metadata": {},
   "outputs": [
    {
     "data": {
      "text/plain": [
       "32"
      ]
     },
     "execution_count": 16,
     "metadata": {},
     "output_type": "execute_result"
    }
   ],
   "source": [
    "df.iloc[2, 1]"
   ]
  },
  {
   "cell_type": "code",
   "execution_count": 18,
   "id": "f72238eb",
   "metadata": {},
   "outputs": [
    {
     "name": "stdout",
     "output_type": "stream",
     "text": [
      "   hombres  mujeres\n",
      "0       30       26\n",
      "1        8       13\n",
      "2       15       17\n",
      "3        9        3\n"
     ]
    }
   ],
   "source": [
    "print(df.loc[:3, ('hombres','mujeres')])"
   ]
  },
  {
   "cell_type": "markdown",
   "id": "8fbaabe4",
   "metadata": {},
   "source": [
    "## Operaciones con las columnas de un DataFrame\n",
    "AÑADIR COLUMNAS A UN DATAFRAME\n",
    "\n",
    "El procedimiento para añadir una nueva columna a un DataFrame es similar al de añadir un nuevo par a un diccionario, pero pasando los valores de la columna en una lista o serie.\n",
    "\n",
    "- d[nombre] = lista: Añade al DataFrame df una nueva columna con el nombre nombre y los valores de la lista lista. La lista debe tener el mismo tamaño que el número de filas de df.\n",
    "\n",
    "- d[nombre] = serie: Añade al DataFrame df una nueva columna con el nombre nombre y los valores de la serie serie. Si el tamaño de la serie es menor que el número de filas de df se rellena con valores NaN mientras que si es mayor se recorta."
   ]
  },
  {
   "cell_type": "code",
   "execution_count": 19,
   "id": "5ca483f7",
   "metadata": {},
   "outputs": [
    {
     "name": "stdout",
     "output_type": "stream",
     "text": [
      "  lenguaje  usuarios  hombres  mujeres\n",
      "0   python        56       30       99\n",
      "1     java        21        8       99\n",
      "2    scala        32       15       99\n",
      "3        r        12        9       99\n",
      "4      c++        23       13       99\n"
     ]
    }
   ],
   "source": [
    "df['mujeres'] = pd.Series([99, 99, 99, 99, 99])\n",
    "print(df)"
   ]
  },
  {
   "cell_type": "code",
   "execution_count": 21,
   "id": "96109786",
   "metadata": {},
   "outputs": [
    {
     "name": "stdout",
     "output_type": "stream",
     "text": [
      "0    False\n",
      "1     True\n",
      "2    False\n",
      "3    False\n",
      "4    False\n",
      "Name: hombres, dtype: bool\n"
     ]
    }
   ],
   "source": [
    "#Puesto que los datos de una misma columna de un DataFrame son del mismo tipo, \n",
    "#es fácil aplicar la misma operación a todos los elementos de la columna.\n",
    "\n",
    "print(df['hombres']==8)"
   ]
  },
  {
   "cell_type": "markdown",
   "id": "a9d74146",
   "metadata": {},
   "source": [
    "## Eliminar columnas de un DataFrame\n",
    "Para eliminar columnas de un DataFrame se utilizan los siguientes métodos:\n",
    "\n",
    "- del d[nombre] : Elimina la columna con nombre nombre del DataFrame df.\n",
    "- df.pop(nombre) : Elimina la columna con nombre nombre del DataFrame df y la devuelve como una serie."
   ]
  },
  {
   "cell_type": "code",
   "execution_count": 22,
   "id": "725844a0",
   "metadata": {},
   "outputs": [],
   "source": [
    "edad = df.pop('mujeres')"
   ]
  },
  {
   "cell_type": "code",
   "execution_count": 23,
   "id": "000dbd61",
   "metadata": {},
   "outputs": [
    {
     "data": {
      "text/html": [
       "<div>\n",
       "<style scoped>\n",
       "    .dataframe tbody tr th:only-of-type {\n",
       "        vertical-align: middle;\n",
       "    }\n",
       "\n",
       "    .dataframe tbody tr th {\n",
       "        vertical-align: top;\n",
       "    }\n",
       "\n",
       "    .dataframe thead th {\n",
       "        text-align: right;\n",
       "    }\n",
       "</style>\n",
       "<table border=\"1\" class=\"dataframe\">\n",
       "  <thead>\n",
       "    <tr style=\"text-align: right;\">\n",
       "      <th></th>\n",
       "      <th>lenguaje</th>\n",
       "      <th>usuarios</th>\n",
       "      <th>hombres</th>\n",
       "    </tr>\n",
       "  </thead>\n",
       "  <tbody>\n",
       "    <tr>\n",
       "      <th>0</th>\n",
       "      <td>python</td>\n",
       "      <td>56</td>\n",
       "      <td>30</td>\n",
       "    </tr>\n",
       "    <tr>\n",
       "      <th>1</th>\n",
       "      <td>java</td>\n",
       "      <td>21</td>\n",
       "      <td>8</td>\n",
       "    </tr>\n",
       "    <tr>\n",
       "      <th>2</th>\n",
       "      <td>scala</td>\n",
       "      <td>32</td>\n",
       "      <td>15</td>\n",
       "    </tr>\n",
       "    <tr>\n",
       "      <th>3</th>\n",
       "      <td>r</td>\n",
       "      <td>12</td>\n",
       "      <td>9</td>\n",
       "    </tr>\n",
       "    <tr>\n",
       "      <th>4</th>\n",
       "      <td>c++</td>\n",
       "      <td>23</td>\n",
       "      <td>13</td>\n",
       "    </tr>\n",
       "  </tbody>\n",
       "</table>\n",
       "</div>"
      ],
      "text/plain": [
       "  lenguaje  usuarios  hombres\n",
       "0   python        56       30\n",
       "1     java        21        8\n",
       "2    scala        32       15\n",
       "3        r        12        9\n",
       "4      c++        23       13"
      ]
     },
     "execution_count": 23,
     "metadata": {},
     "output_type": "execute_result"
    }
   ],
   "source": [
    "df"
   ]
  },
  {
   "cell_type": "markdown",
   "id": "1e17dce4",
   "metadata": {},
   "source": [
    "## Añadir una fila a un DataFrame\n",
    "Para añadir una fila a un DataFrame se utiliza el siguiente método:\n",
    "\n",
    "- df.append(serie, ignore_index=True) : Devuelve el DataFrame que resulta de añadir una fila al DataFrame df con los valores de la serie serie. Los nombres del índice de la serie deben corresponderse con los nombres de las columnas de df. Si no se pasa el parámetro ignore_index entonces debe pasarse el parámetro name a la serie, donde su argumento será el nombre de la nueva fila."
   ]
  },
  {
   "cell_type": "code",
   "execution_count": 24,
   "id": "6b23016f",
   "metadata": {},
   "outputs": [
    {
     "name": "stdout",
     "output_type": "stream",
     "text": [
      "  lenguaje  usuarios  hombres\n",
      "1     java        21        8\n",
      "2    scala        32       15\n",
      "3        r        12        9\n",
      "4      c++        23       13\n",
      "5     Ruby        28       10\n"
     ]
    }
   ],
   "source": [
    "df = df.append(pd.Series(['Ruby', 28, 10], index=['lenguaje','usuarios','hombres']), ignore_index=True)\n",
    "print(df.tail())"
   ]
  },
  {
   "cell_type": "markdown",
   "id": "99399536",
   "metadata": {},
   "source": [
    "## Eliminar filas de un DataFrame\n",
    "Para eliminar filas de un DataFrame se utilizan el siguiente método:\n",
    "\n",
    "- df.drop(filas) : Devuelve el DataFrame que resulta de eliminar las filas con los nombres indicados en la lista filas del DataFrame df."
   ]
  },
  {
   "cell_type": "code",
   "execution_count": 25,
   "id": "9d7b4bc3",
   "metadata": {},
   "outputs": [
    {
     "name": "stdout",
     "output_type": "stream",
     "text": [
      "  lenguaje  usuarios  hombres\n",
      "0   python        56       30\n",
      "1     java        21        8\n",
      "2    scala        32       15\n",
      "3        r        12        9\n",
      "4      c++        23       13\n"
     ]
    }
   ],
   "source": [
    "print(df.drop(5))"
   ]
  }
 ],
 "metadata": {
  "kernelspec": {
   "display_name": "Python 3 (ipykernel)",
   "language": "python",
   "name": "python3"
  },
  "language_info": {
   "codemirror_mode": {
    "name": "ipython",
    "version": 3
   },
   "file_extension": ".py",
   "mimetype": "text/x-python",
   "name": "python",
   "nbconvert_exporter": "python",
   "pygments_lexer": "ipython3",
   "version": "3.7.16"
  }
 },
 "nbformat": 4,
 "nbformat_minor": 5
}
